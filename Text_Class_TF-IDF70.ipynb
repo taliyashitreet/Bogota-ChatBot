{
 "cells": [
  {
   "cell_type": "code",
   "execution_count": null,
   "outputs": [],
   "source": [
    "!pip install keras"
   ],
   "metadata": {
    "pycharm": {
     "name": "#%%\n"
    },
    "id": "_IlMV7BKKE4a"
   }
  },
  {
   "cell_type": "code",
   "execution_count": null,
   "outputs": [],
   "source": [
    "!pip show tensorflow"
   ],
   "metadata": {
    "pycharm": {
     "name": "#%%\n"
    },
    "id": "thvOCReaKE4c"
   }
  },
  {
   "cell_type": "code",
   "execution_count": null,
   "outputs": [],
   "source": [
    "!pip install pandas openpyxl"
   ],
   "metadata": {
    "pycharm": {
     "name": "#%%\n"
    },
    "id": "QfB5ZM_LKE4d"
   }
  },
  {
   "cell_type": "code",
   "execution_count": null,
   "outputs": [],
   "source": [
    "!pip install transformers\n"
   ],
   "metadata": {
    "pycharm": {
     "name": "#%%\n"
    },
    "id": "Z2XG8gASKE4d"
   }
  },
  {
   "cell_type": "markdown",
   "source": [
    "### IMPORT"
   ],
   "metadata": {
    "collapsed": false,
    "pycharm": {
     "name": "#%% md\n"
    },
    "id": "yhI3Z2zvKE4d"
   }
  },
  {
   "cell_type": "code",
   "execution_count": 99,
   "outputs": [],
   "source": [
    "import pandas as pd\n",
    "import numpy as np\n",
    "import tensorflow as tf\n",
    "from sklearn.model_selection import train_test_split\n",
    "import tensorflow_hub as hub\n",
    "import matplotlib.pyplot as plt\n",
    "from tensorflow.python.keras import metrics\n",
    "# from tensorflow.keras import metrics\n",
    "from sklearn.metrics import confusion_matrix, accuracy_score, precision_score, recall_score, f1_score\n",
    "import seaborn as sns\n"
   ],
   "metadata": {
    "pycharm": {
     "name": "#%%\n"
    },
    "id": "3sAw6zvkKE4e"
   }
  },
  {
   "cell_type": "markdown",
   "source": [
    "### DATA PREPROCESSING"
   ],
   "metadata": {
    "collapsed": false,
    "pycharm": {
     "name": "#%% md\n"
    },
    "id": "-YqypPNOKE4f"
   }
  },
  {
   "cell_type": "markdown",
   "source": [
    "#### IMPORT & INFO \n",
    " ORIGIN DATA - DATA WITH CAHTGPT LABALING"
   ],
   "metadata": {
    "id": "HV-rkaOANdho",
    "pycharm": {
     "name": "#%% md\n"
    }
   }
  },
  {
   "cell_type": "code",
   "execution_count": 100,
   "outputs": [
    {
     "data": {
      "text/plain": "(364, 2)"
     },
     "execution_count": 100,
     "metadata": {},
     "output_type": "execute_result"
    }
   ],
   "source": [
    "# Load the CSV file\n",
    "data = pd.read_csv('GPTClassification.csv')\n",
    "data.name = 'origin_df'\n",
    "data.shape"
   ],
   "metadata": {
    "pycharm": {
     "name": "#%%\n"
    },
    "colab": {
     "base_uri": "https://localhost:8080/"
    },
    "id": "BqQcB-bIKE4f",
    "outputId": "1f50f3c9-e041-4c5d-c2ce-04ec048fc196"
   }
  },
  {
   "cell_type": "code",
   "execution_count": 101,
   "outputs": [
    {
     "name": "stdout",
     "output_type": "stream",
     "text": [
      "<class 'pandas.core.frame.DataFrame'>\n",
      "RangeIndex: 364 entries, 0 to 363\n",
      "Data columns (total 2 columns):\n",
      " #   Column    Non-Null Count  Dtype \n",
      "---  ------    --------------  ----- \n",
      " 0   Sentence  364 non-null    object\n",
      " 1   category  362 non-null    object\n",
      "dtypes: object(2)\n",
      "memory usage: 5.8+ KB\n"
     ]
    }
   ],
   "source": [
    "data.info()"
   ],
   "metadata": {
    "pycharm": {
     "name": "#%%\n"
    },
    "colab": {
     "base_uri": "https://localhost:8080/"
    },
    "id": "edZ7S6-fKE4g",
    "outputId": "460d2de2-fb33-4b81-fc2e-c859b0a13ede"
   }
  },
  {
   "cell_type": "code",
   "execution_count": 102,
   "outputs": [
    {
     "data": {
      "text/plain": "                                            Sentence                  category\n0  \"I think there should be many various sitting ...                  Land use\n1  \"It should be distinctive but still matching t...            Local identity\n2  \"It should be clear where the entrance is and ...                  Land use\n3  \"well I think that the spaces should be focuse...  Land use, Future of work\n4  \"well it could be achieved through different m...                  Land use\n5  \"yes, the current building, as unsuitable as i...            Local identity\n6  \"maybe, however Im interested in your suggesti...                     other\n7  \"i find that a very correct approach... how di...                     other\n8                                   \"correct again \"                     other\n9  \"well maybe it is a possibility to experiment ...            Local identity",
      "text/html": "<div>\n<style scoped>\n    .dataframe tbody tr th:only-of-type {\n        vertical-align: middle;\n    }\n\n    .dataframe tbody tr th {\n        vertical-align: top;\n    }\n\n    .dataframe thead th {\n        text-align: right;\n    }\n</style>\n<table border=\"1\" class=\"dataframe\">\n  <thead>\n    <tr style=\"text-align: right;\">\n      <th></th>\n      <th>Sentence</th>\n      <th>category</th>\n    </tr>\n  </thead>\n  <tbody>\n    <tr>\n      <th>0</th>\n      <td>\"I think there should be many various sitting ...</td>\n      <td>Land use</td>\n    </tr>\n    <tr>\n      <th>1</th>\n      <td>\"It should be distinctive but still matching t...</td>\n      <td>Local identity</td>\n    </tr>\n    <tr>\n      <th>2</th>\n      <td>\"It should be clear where the entrance is and ...</td>\n      <td>Land use</td>\n    </tr>\n    <tr>\n      <th>3</th>\n      <td>\"well I think that the spaces should be focuse...</td>\n      <td>Land use, Future of work</td>\n    </tr>\n    <tr>\n      <th>4</th>\n      <td>\"well it could be achieved through different m...</td>\n      <td>Land use</td>\n    </tr>\n    <tr>\n      <th>5</th>\n      <td>\"yes, the current building, as unsuitable as i...</td>\n      <td>Local identity</td>\n    </tr>\n    <tr>\n      <th>6</th>\n      <td>\"maybe, however Im interested in your suggesti...</td>\n      <td>other</td>\n    </tr>\n    <tr>\n      <th>7</th>\n      <td>\"i find that a very correct approach... how di...</td>\n      <td>other</td>\n    </tr>\n    <tr>\n      <th>8</th>\n      <td>\"correct again \"</td>\n      <td>other</td>\n    </tr>\n    <tr>\n      <th>9</th>\n      <td>\"well maybe it is a possibility to experiment ...</td>\n      <td>Local identity</td>\n    </tr>\n  </tbody>\n</table>\n</div>"
     },
     "execution_count": 102,
     "metadata": {},
     "output_type": "execute_result"
    }
   ],
   "source": [
    "data.head(10)"
   ],
   "metadata": {
    "pycharm": {
     "name": "#%%\n"
    },
    "colab": {
     "base_uri": "https://localhost:8080/",
     "height": 0
    },
    "id": "XMRzt6a2KE4g",
    "outputId": "0ba63dcf-56b0-4333-faf4-ee281ccca0d0"
   }
  },
  {
   "cell_type": "markdown",
   "source": [
    "#### CLEAN DATA"
   ],
   "metadata": {
    "id": "m9Ru2dVXOHks",
    "pycharm": {
     "name": "#%% md\n"
    }
   }
  },
  {
   "cell_type": "code",
   "execution_count": 103,
   "outputs": [
    {
     "name": "stdout",
     "output_type": "stream",
     "text": [
      "There is  93  sentence that are not labeled\n"
     ]
    }
   ],
   "source": [
    "empty_string_count = (data['category'] == 'other').sum()\n",
    "print(\"There is \", empty_string_count, \" sentence that are not labeled\")"
   ],
   "metadata": {
    "pycharm": {
     "name": "#%%\n"
    },
    "colab": {
     "base_uri": "https://localhost:8080/"
    },
    "id": "BJkvn-YnKE4g",
    "outputId": "c7a3b975-9f1c-48a1-e5b9-a4152986d926"
   }
  },
  {
   "cell_type": "code",
   "execution_count": 104,
   "outputs": [],
   "source": [
    "# delete the NuN values\n",
    "data = data.dropna()"
   ],
   "metadata": {
    "pycharm": {
     "name": "#%%\n"
    },
    "id": "uhu5LRSxKE4h"
   }
  },
  {
   "cell_type": "code",
   "execution_count": 105,
   "outputs": [
    {
     "name": "stdout",
     "output_type": "stream",
     "text": [
      "There are 14 duplicate Sentences.\n"
     ]
    }
   ],
   "source": [
    "total_duplicate_titles = sum(data[\"Sentence\"].duplicated())\n",
    "print(f\"There are {total_duplicate_titles} duplicate Sentences.\")"
   ],
   "metadata": {
    "pycharm": {
     "name": "#%%\n"
    },
    "colab": {
     "base_uri": "https://localhost:8080/"
    },
    "id": "iuIPOSnxKE4h",
    "outputId": "815fd52d-5633-4301-8394-d3ad4ed356b6"
   }
  },
  {
   "cell_type": "code",
   "execution_count": 106,
   "outputs": [
    {
     "name": "stdout",
     "output_type": "stream",
     "text": [
      "DUPLICATE ROWS\n"
     ]
    },
    {
     "data": {
      "text/plain": "                                     Sentence   \n17                                       \"no\"  \\\n51   \"What spaces should be in the building?\"   \n54     \"What should the building look like? \"   \n71   \"What spaces should be in the building?\"   \n74     \"What should the building look like? \"   \n85                                  \"Hi Zaha\"   \n97              \"What would you like to know\"   \n123                                  \"spaces\"   \n127                             \"trees grass\"   \n129                                  \"spaces\"   \n130                                 \"history\"   \n131                                 \"history\"   \n132                                  \"spaces\"   \n133                             \"trees grass\"   \n134                                  \"modern\"   \n135                                 \"history\"   \n139                            \"not too high\"   \n142                                    \"safe\"   \n144                                    \"safe\"   \n169             \"What would you like to know\"   \n191                                 \"Hi Zaha\"   \n216                                 \"Hi Zaha\"   \n242                                      \"no\"   \n247                                  \"modern\"   \n361                            \"not too high\"   \n\n                                         category  \n17                                          other  \n51                       Future of work, Land use  \n54                                 Local identity  \n71                                       Land use  \n74                                 Local identity  \n85                                          other  \n97                                          other  \n123  Environment and climate resilience, Land use  \n127  Environment and climate resilience, Land use  \n129  Environment and climate resilience, Land use  \n130                                Local identity  \n131                                Local identity  \n132  Environment and climate resilience, Land use  \n133            Environment and climate resilience  \n134                                Local identity  \n135                                Local identity  \n139            Environment and climate resilience  \n142            Environment and climate resilience  \n144                                         other  \n169                                         other  \n191                                         other  \n216                                         other  \n242                                         other  \n247                                Local identity  \n361                                      Land use  ",
      "text/html": "<div>\n<style scoped>\n    .dataframe tbody tr th:only-of-type {\n        vertical-align: middle;\n    }\n\n    .dataframe tbody tr th {\n        vertical-align: top;\n    }\n\n    .dataframe thead th {\n        text-align: right;\n    }\n</style>\n<table border=\"1\" class=\"dataframe\">\n  <thead>\n    <tr style=\"text-align: right;\">\n      <th></th>\n      <th>Sentence</th>\n      <th>category</th>\n    </tr>\n  </thead>\n  <tbody>\n    <tr>\n      <th>17</th>\n      <td>\"no\"</td>\n      <td>other</td>\n    </tr>\n    <tr>\n      <th>51</th>\n      <td>\"What spaces should be in the building?\"</td>\n      <td>Future of work, Land use</td>\n    </tr>\n    <tr>\n      <th>54</th>\n      <td>\"What should the building look like? \"</td>\n      <td>Local identity</td>\n    </tr>\n    <tr>\n      <th>71</th>\n      <td>\"What spaces should be in the building?\"</td>\n      <td>Land use</td>\n    </tr>\n    <tr>\n      <th>74</th>\n      <td>\"What should the building look like? \"</td>\n      <td>Local identity</td>\n    </tr>\n    <tr>\n      <th>85</th>\n      <td>\"Hi Zaha\"</td>\n      <td>other</td>\n    </tr>\n    <tr>\n      <th>97</th>\n      <td>\"What would you like to know\"</td>\n      <td>other</td>\n    </tr>\n    <tr>\n      <th>123</th>\n      <td>\"spaces\"</td>\n      <td>Environment and climate resilience, Land use</td>\n    </tr>\n    <tr>\n      <th>127</th>\n      <td>\"trees grass\"</td>\n      <td>Environment and climate resilience, Land use</td>\n    </tr>\n    <tr>\n      <th>129</th>\n      <td>\"spaces\"</td>\n      <td>Environment and climate resilience, Land use</td>\n    </tr>\n    <tr>\n      <th>130</th>\n      <td>\"history\"</td>\n      <td>Local identity</td>\n    </tr>\n    <tr>\n      <th>131</th>\n      <td>\"history\"</td>\n      <td>Local identity</td>\n    </tr>\n    <tr>\n      <th>132</th>\n      <td>\"spaces\"</td>\n      <td>Environment and climate resilience, Land use</td>\n    </tr>\n    <tr>\n      <th>133</th>\n      <td>\"trees grass\"</td>\n      <td>Environment and climate resilience</td>\n    </tr>\n    <tr>\n      <th>134</th>\n      <td>\"modern\"</td>\n      <td>Local identity</td>\n    </tr>\n    <tr>\n      <th>135</th>\n      <td>\"history\"</td>\n      <td>Local identity</td>\n    </tr>\n    <tr>\n      <th>139</th>\n      <td>\"not too high\"</td>\n      <td>Environment and climate resilience</td>\n    </tr>\n    <tr>\n      <th>142</th>\n      <td>\"safe\"</td>\n      <td>Environment and climate resilience</td>\n    </tr>\n    <tr>\n      <th>144</th>\n      <td>\"safe\"</td>\n      <td>other</td>\n    </tr>\n    <tr>\n      <th>169</th>\n      <td>\"What would you like to know\"</td>\n      <td>other</td>\n    </tr>\n    <tr>\n      <th>191</th>\n      <td>\"Hi Zaha\"</td>\n      <td>other</td>\n    </tr>\n    <tr>\n      <th>216</th>\n      <td>\"Hi Zaha\"</td>\n      <td>other</td>\n    </tr>\n    <tr>\n      <th>242</th>\n      <td>\"no\"</td>\n      <td>other</td>\n    </tr>\n    <tr>\n      <th>247</th>\n      <td>\"modern\"</td>\n      <td>Local identity</td>\n    </tr>\n    <tr>\n      <th>361</th>\n      <td>\"not too high\"</td>\n      <td>Land use</td>\n    </tr>\n  </tbody>\n</table>\n</div>"
     },
     "execution_count": 106,
     "metadata": {},
     "output_type": "execute_result"
    }
   ],
   "source": [
    "# Create a boolean mask for duplicated sentences\n",
    "mask = data[\"Sentence\"].duplicated(keep=False)\n",
    "print(\"DUPLICATE ROWS\")\n",
    "# Print the rows with duplicated sentences\n",
    "data[mask]\n"
   ],
   "metadata": {
    "pycharm": {
     "name": "#%%\n"
    },
    "colab": {
     "base_uri": "https://localhost:8080/",
     "height": 0
    },
    "id": "vKeLOMpFKE4h",
    "outputId": "471787d5-9c12-4a52-ae3b-eecf50a06986"
   }
  },
  {
   "cell_type": "code",
   "execution_count": 107,
   "outputs": [
    {
     "name": "stdout",
     "output_type": "stream",
     "text": [
      "duplicate rows:  348\n",
      "categories upon once only: 14\n",
      "unique categories: 31\n"
     ]
    }
   ],
   "source": [
    "data = data[~data[\"Sentence\"].duplicated()]\n",
    "print(f\"duplicate rows:  {len(data)}\")\n",
    "\n",
    "# There are some categories with occurrence as low as 1.\n",
    "print(\"categories upon once only:\",sum(data[\"category\"].value_counts() == 1))\n",
    "\n",
    "# How many unique terms?\n",
    "print(\"unique categories:\",data[\"category\"].nunique())"
   ],
   "metadata": {
    "pycharm": {
     "name": "#%%\n"
    },
    "colab": {
     "base_uri": "https://localhost:8080/"
    },
    "id": "ZyS52_ZZKE4i",
    "outputId": "8675b1e5-1e3d-4f79-e881-55634f72029c"
   }
  },
  {
   "cell_type": "markdown",
   "source": [
    "We need to handle the categories upon only once, its problematic for multi-label text classifier"
   ],
   "metadata": {
    "collapsed": false,
    "pycharm": {
     "name": "#%% md\n"
    },
    "id": "S-7r4aw_KE4i"
   }
  },
  {
   "cell_type": "code",
   "execution_count": 108,
   "outputs": [],
   "source": [
    "def get_single_occurrence_categories(data):\n",
    "    # Get the categories that appear only once\n",
    "    single_occurrence_categories = data['category'].value_counts()\n",
    "    single_occurrence_categories = single_occurrence_categories[single_occurrence_categories == 1].index\n",
    "\n",
    "    # Get the rows where 'category' is in the list of single-occurrence categories\n",
    "    once_sen = data[data['category'].isin(single_occurrence_categories)]\n",
    "    return once_sen\n"
   ],
   "metadata": {
    "pycharm": {
     "name": "#%%\n"
    },
    "id": "1yLb-6zOKE4i"
   }
  },
  {
   "cell_type": "code",
   "execution_count": 109,
   "outputs": [
    {
     "name": "stdout",
     "output_type": "stream",
     "text": [
      "sentences that their label is unique in the data set:\n"
     ]
    },
    {
     "data": {
      "text/plain": "                                              Sentence   \n15   \"hi, i think if there´s more free use co-worki...  \\\n19   \"The building should be more open for the soci...   \n22   \"To have a cafe on the ground floor would be n...   \n53                             \"Can we have a garden?\"   \n110  \"I agree! Architecture students should be insp...   \n145  \"The building should have several spaces for g...   \n183       \"Can I 3d print infra lightweight concrete?\"   \n194  \"I think it should be more inviting compared t...   \n198  \"There should be greenery aroud the building, ...   \n226  \"I think that a good architecture school shoul...   \n239  \"Hello Zaha, nice to meet you! I'm glad to be ...   \n316  \"I hope in office room or big classroom there ...   \n325  \"it should be 3-4 floors in height and have bo...   \n335  \"Who's your favorite architect what's your fav...   \n\n                                              category  \n15   Local identity, Environment and climate resili...  \n19   Local identity, Environment and climate resili...  \n22                Local identity, Mobility (transport)  \n53        Land use, Environment and climate resilience  \n110  Environment and climate resilience, Future of ...  \n145  Environment and climate resilience, Local iden...  \n183                           Future of work; Land use  \n194                           Local identity; Land use  \n198       Environment and climate resilience; Land use  \n226                           Land use; Local identity  \n239  Environment and climate resilience; Local iden...  \n316                                     Indoor comfort  \n325                     Mobility (transport), Land use  \n335               Mobility (transport), Local identity  ",
      "text/html": "<div>\n<style scoped>\n    .dataframe tbody tr th:only-of-type {\n        vertical-align: middle;\n    }\n\n    .dataframe tbody tr th {\n        vertical-align: top;\n    }\n\n    .dataframe thead th {\n        text-align: right;\n    }\n</style>\n<table border=\"1\" class=\"dataframe\">\n  <thead>\n    <tr style=\"text-align: right;\">\n      <th></th>\n      <th>Sentence</th>\n      <th>category</th>\n    </tr>\n  </thead>\n  <tbody>\n    <tr>\n      <th>15</th>\n      <td>\"hi, i think if there´s more free use co-worki...</td>\n      <td>Local identity, Environment and climate resili...</td>\n    </tr>\n    <tr>\n      <th>19</th>\n      <td>\"The building should be more open for the soci...</td>\n      <td>Local identity, Environment and climate resili...</td>\n    </tr>\n    <tr>\n      <th>22</th>\n      <td>\"To have a cafe on the ground floor would be n...</td>\n      <td>Local identity, Mobility (transport)</td>\n    </tr>\n    <tr>\n      <th>53</th>\n      <td>\"Can we have a garden?\"</td>\n      <td>Land use, Environment and climate resilience</td>\n    </tr>\n    <tr>\n      <th>110</th>\n      <td>\"I agree! Architecture students should be insp...</td>\n      <td>Environment and climate resilience, Future of ...</td>\n    </tr>\n    <tr>\n      <th>145</th>\n      <td>\"The building should have several spaces for g...</td>\n      <td>Environment and climate resilience, Local iden...</td>\n    </tr>\n    <tr>\n      <th>183</th>\n      <td>\"Can I 3d print infra lightweight concrete?\"</td>\n      <td>Future of work; Land use</td>\n    </tr>\n    <tr>\n      <th>194</th>\n      <td>\"I think it should be more inviting compared t...</td>\n      <td>Local identity; Land use</td>\n    </tr>\n    <tr>\n      <th>198</th>\n      <td>\"There should be greenery aroud the building, ...</td>\n      <td>Environment and climate resilience; Land use</td>\n    </tr>\n    <tr>\n      <th>226</th>\n      <td>\"I think that a good architecture school shoul...</td>\n      <td>Land use; Local identity</td>\n    </tr>\n    <tr>\n      <th>239</th>\n      <td>\"Hello Zaha, nice to meet you! I'm glad to be ...</td>\n      <td>Environment and climate resilience; Local iden...</td>\n    </tr>\n    <tr>\n      <th>316</th>\n      <td>\"I hope in office room or big classroom there ...</td>\n      <td>Indoor comfort</td>\n    </tr>\n    <tr>\n      <th>325</th>\n      <td>\"it should be 3-4 floors in height and have bo...</td>\n      <td>Mobility (transport), Land use</td>\n    </tr>\n    <tr>\n      <th>335</th>\n      <td>\"Who's your favorite architect what's your fav...</td>\n      <td>Mobility (transport), Local identity</td>\n    </tr>\n  </tbody>\n</table>\n</div>"
     },
     "execution_count": 109,
     "metadata": {},
     "output_type": "execute_result"
    }
   ],
   "source": [
    "print(\"sentences that their label is unique in the data set:\")\n",
    "once_sen = get_single_occurrence_categories(data)\n",
    "once_sen\n"
   ],
   "metadata": {
    "pycharm": {
     "name": "#%%\n"
    },
    "colab": {
     "base_uri": "https://localhost:8080/",
     "height": 0
    },
    "id": "EMOTMMFDKE4i",
    "outputId": "4f4a6495-520b-4e2a-9f71-69e75f91f88a"
   }
  },
  {
   "cell_type": "code",
   "execution_count": 110,
   "outputs": [],
   "source": [
    "# Replace \";\" with \",\"\n",
    "data['category'] = data['category'].str.replace(';', ',')\n"
   ],
   "metadata": {
    "pycharm": {
     "name": "#%%\n"
    },
    "id": "3lLKB5qkKE4j"
   }
  },
  {
   "cell_type": "code",
   "execution_count": 111,
   "outputs": [
    {
     "data": {
      "text/plain": "array([list(['Land use']), list(['Local identity']), list(['Land use']),\n       list(['Land use', 'Future of work']), list(['Land use'])],\n      dtype=object)"
     },
     "execution_count": 111,
     "metadata": {},
     "output_type": "execute_result"
    }
   ],
   "source": [
    "data[\"category\"] = data[\"category\"].apply(\n",
    "    lambda x: x.split(', ')\n",
    ")\n",
    "data[\"category\"].values[:5]\n"
   ],
   "metadata": {
    "pycharm": {
     "name": "#%%\n"
    },
    "colab": {
     "base_uri": "https://localhost:8080/"
    },
    "id": "0lYzCdpcKE4j",
    "outputId": "a4a1e087-58f0-4682-e39e-4209b388287e"
   }
  },
  {
   "cell_type": "code",
   "execution_count": 112,
   "outputs": [
    {
     "name": "stdout",
     "output_type": "stream",
     "text": [
      "after replace ';', \n",
      "sentences that their label is unique in the data set: \n"
     ]
    },
    {
     "data": {
      "text/plain": "                                              Sentence   \n15   \"hi, i think if there´s more free use co-worki...  \\\n19   \"The building should be more open for the soci...   \n22   \"To have a cafe on the ground floor would be n...   \n53                             \"Can we have a garden?\"   \n110  \"I agree! Architecture students should be insp...   \n145  \"The building should have several spaces for g...   \n239  \"Hello Zaha, nice to meet you! I'm glad to be ...   \n316  \"I hope in office room or big classroom there ...   \n335  \"Who's your favorite architect what's your fav...   \n\n                                              category  \n15   [Local identity, Environment and climate resil...  \n19   [Local identity, Environment and climate resil...  \n22              [Local identity, Mobility (transport)]  \n53      [Land use, Environment and climate resilience]  \n110  [Environment and climate resilience, Future of...  \n145  [Environment and climate resilience, Local ide...  \n239  [Environment and climate resilience, Local ide...  \n316                                   [Indoor comfort]  \n335             [Mobility (transport), Local identity]  ",
      "text/html": "<div>\n<style scoped>\n    .dataframe tbody tr th:only-of-type {\n        vertical-align: middle;\n    }\n\n    .dataframe tbody tr th {\n        vertical-align: top;\n    }\n\n    .dataframe thead th {\n        text-align: right;\n    }\n</style>\n<table border=\"1\" class=\"dataframe\">\n  <thead>\n    <tr style=\"text-align: right;\">\n      <th></th>\n      <th>Sentence</th>\n      <th>category</th>\n    </tr>\n  </thead>\n  <tbody>\n    <tr>\n      <th>15</th>\n      <td>\"hi, i think if there´s more free use co-worki...</td>\n      <td>[Local identity, Environment and climate resil...</td>\n    </tr>\n    <tr>\n      <th>19</th>\n      <td>\"The building should be more open for the soci...</td>\n      <td>[Local identity, Environment and climate resil...</td>\n    </tr>\n    <tr>\n      <th>22</th>\n      <td>\"To have a cafe on the ground floor would be n...</td>\n      <td>[Local identity, Mobility (transport)]</td>\n    </tr>\n    <tr>\n      <th>53</th>\n      <td>\"Can we have a garden?\"</td>\n      <td>[Land use, Environment and climate resilience]</td>\n    </tr>\n    <tr>\n      <th>110</th>\n      <td>\"I agree! Architecture students should be insp...</td>\n      <td>[Environment and climate resilience, Future of...</td>\n    </tr>\n    <tr>\n      <th>145</th>\n      <td>\"The building should have several spaces for g...</td>\n      <td>[Environment and climate resilience, Local ide...</td>\n    </tr>\n    <tr>\n      <th>239</th>\n      <td>\"Hello Zaha, nice to meet you! I'm glad to be ...</td>\n      <td>[Environment and climate resilience, Local ide...</td>\n    </tr>\n    <tr>\n      <th>316</th>\n      <td>\"I hope in office room or big classroom there ...</td>\n      <td>[Indoor comfort]</td>\n    </tr>\n    <tr>\n      <th>335</th>\n      <td>\"Who's your favorite architect what's your fav...</td>\n      <td>[Mobility (transport), Local identity]</td>\n    </tr>\n  </tbody>\n</table>\n</div>"
     },
     "execution_count": 112,
     "metadata": {},
     "output_type": "execute_result"
    }
   ],
   "source": [
    "print(\"after replace ';', \\nsentences that their label is unique in the data set: \")\n",
    "once_sen = get_single_occurrence_categories(data)\n",
    "once_sen"
   ],
   "metadata": {
    "pycharm": {
     "name": "#%%\n"
    },
    "colab": {
     "base_uri": "https://localhost:8080/",
     "height": 0
    },
    "id": "osyll3dAKE4j",
    "outputId": "a7c73a6c-f3d5-4832-9de9-e6e2c905cc9a"
   }
  },
  {
   "cell_type": "markdown",
   "source": [
    "The categories that appear once in the data we took from 14 to 9.\n",
    "Now for those 9 - we will separate them to different rows"
   ],
   "metadata": {
    "collapsed": false,
    "pycharm": {
     "name": "#%% md\n"
    },
    "id": "e126-HUFKE4k"
   }
  },
  {
   "cell_type": "code",
   "execution_count": 113,
   "outputs": [],
   "source": [
    "# Create a list to store the new rows\n",
    "new_rows = []\n",
    "\n",
    "# Iterate over the rows in the dataframe where category is in single_occurrence_categories\n",
    "for idx, row in once_sen.iterrows():\n",
    "    # Iterate over the categories in the 'category' column\n",
    "    for cat in row['category']:\n",
    "        new_row = {'Sentence': row['Sentence'], 'category': [cat]}\n",
    "        # Only add the new row if it is not already in new_rows\n",
    "        if new_row not in new_rows:\n",
    "            new_rows.append(new_row)\n",
    "    data = data.drop(idx)\n",
    "\n",
    "# Create a new DataFrame from the new rows\n",
    "new_rows_df = pd.DataFrame(new_rows)\n",
    "\n",
    "# Append the new rows to the dataframe using concat\n",
    "data = pd.concat([data, new_rows_df], ignore_index=True)\n"
   ],
   "metadata": {
    "pycharm": {
     "name": "#%%\n"
    },
    "id": "Wja1oY2wKE4k"
   }
  },
  {
   "cell_type": "code",
   "execution_count": 114,
   "outputs": [
    {
     "name": "stdout",
     "output_type": "stream",
     "text": [
      "There are 0 duplicates.\n"
     ]
    }
   ],
   "source": [
    "# Convert lists in 'category' to tuples\n",
    "new_rows_df['category'] = new_rows_df['category'].apply(tuple)\n",
    "\n",
    "# Then check for duplicates\n",
    "total_duplicate_titles = new_rows_df.duplicated().sum()\n",
    "print(f\"There are {total_duplicate_titles} duplicates.\")\n",
    "\n"
   ],
   "metadata": {
    "pycharm": {
     "name": "#%%\n"
    },
    "colab": {
     "base_uri": "https://localhost:8080/"
    },
    "id": "ObM8XXgrKE4k",
    "outputId": "08060c0b-8b76-47bd-88e1-ab1570354583"
   }
  },
  {
   "cell_type": "code",
   "execution_count": 115,
   "outputs": [
    {
     "name": "stdout",
     "output_type": "stream",
     "text": [
      "\"The building should be more open for the society.\"\n"
     ]
    },
    {
     "data": {
      "text/plain": "                                              Sentence   \n342  \"The building should be more open for the soci...  \\\n343  \"The building should be more open for the soci...   \n\n                                 category  \n342                      [Local identity]  \n343  [Environment and climate resilience]  ",
      "text/html": "<div>\n<style scoped>\n    .dataframe tbody tr th:only-of-type {\n        vertical-align: middle;\n    }\n\n    .dataframe tbody tr th {\n        vertical-align: top;\n    }\n\n    .dataframe thead th {\n        text-align: right;\n    }\n</style>\n<table border=\"1\" class=\"dataframe\">\n  <thead>\n    <tr style=\"text-align: right;\">\n      <th></th>\n      <th>Sentence</th>\n      <th>category</th>\n    </tr>\n  </thead>\n  <tbody>\n    <tr>\n      <th>342</th>\n      <td>\"The building should be more open for the soci...</td>\n      <td>[Local identity]</td>\n    </tr>\n    <tr>\n      <th>343</th>\n      <td>\"The building should be more open for the soci...</td>\n      <td>[Environment and climate resilience]</td>\n    </tr>\n  </tbody>\n</table>\n</div>"
     },
     "execution_count": 115,
     "metadata": {},
     "output_type": "execute_result"
    }
   ],
   "source": [
    "# There are some categories with occurrence as low as 1.\n",
    "print(once_sen['Sentence'][19])\n",
    "data[data['Sentence'] == once_sen['Sentence'][19]]\n",
    "# this cell for checking it was separated"
   ],
   "metadata": {
    "pycharm": {
     "name": "#%%\n"
    },
    "colab": {
     "base_uri": "https://localhost:8080/",
     "height": 0
    },
    "id": "RMrfy_8MKE4k",
    "outputId": "1e5dd16a-56ad-42a4-ca1f-ae0e5e822dbd"
   }
  },
  {
   "cell_type": "code",
   "execution_count": 116,
   "outputs": [
    {
     "data": {
      "text/plain": "(361, 2)"
     },
     "execution_count": 116,
     "metadata": {},
     "output_type": "execute_result"
    }
   ],
   "source": [
    "data.shape"
   ],
   "metadata": {
    "pycharm": {
     "name": "#%%\n"
    },
    "colab": {
     "base_uri": "https://localhost:8080/"
    },
    "id": "otE0dv9vKE4k",
    "outputId": "c732a96f-89ab-45ca-d71a-41fe98086a0c"
   }
  },
  {
   "cell_type": "code",
   "execution_count": 117,
   "outputs": [],
   "source": [
    "# Get the categories that appear more than once\n",
    "multi_occurrence_categories = data['category'].value_counts()\n",
    "multi_occurrence_categories = multi_occurrence_categories[multi_occurrence_categories > 1].index\n",
    "\n",
    "# Filter the data to only include rows where 'category' is in the list of multi-occurrence categories\n",
    "data = data[data['category'].isin(multi_occurrence_categories)]\n"
   ],
   "metadata": {
    "pycharm": {
     "name": "#%%\n"
    },
    "id": "O5UYe1D9KE4l"
   }
  },
  {
   "cell_type": "code",
   "execution_count": 118,
   "outputs": [
    {
     "data": {
      "text/plain": "(360, 2)"
     },
     "execution_count": 118,
     "metadata": {},
     "output_type": "execute_result"
    }
   ],
   "source": [
    "data.shape"
   ],
   "metadata": {
    "pycharm": {
     "name": "#%%\n"
    },
    "colab": {
     "base_uri": "https://localhost:8080/"
    },
    "id": "SHDme353KE4l",
    "outputId": "08fc230b-9ae8-41f0-b3a4-fe3d9ae68331"
   }
  },
  {
   "cell_type": "markdown",
   "source": [
    "#### SPLIT DATA - train, validation, test"
   ],
   "metadata": {
    "id": "4ZaWZifNMh7j",
    "pycharm": {
     "name": "#%% md\n"
    }
   }
  },
  {
   "cell_type": "code",
   "execution_count": 119,
   "outputs": [
    {
     "name": "stdout",
     "output_type": "stream",
     "text": [
      "Number of rows in training set: 252\n",
      "Number of rows in validation set: 54\n",
      "Number of rows in test set: 54\n"
     ]
    }
   ],
   "source": [
    "test_split = 0.3\n",
    "\n",
    "\n",
    "# Initial train and test split.\n",
    "train_df, test_df = train_test_split(\n",
    "    data,\n",
    "    test_size=test_split,\n",
    "    stratify=data[\"category\"].values,\n",
    "    random_state=42\n",
    ")\n",
    "\n",
    "# Splitting the test set further into validation\n",
    "# and new test sets.\n",
    "val_df = test_df.sample(frac=0.5)\n",
    "test_df.drop(val_df.index, inplace=True)\n",
    "\n",
    "print(f\"Number of rows in training set: {len(train_df)}\")\n",
    "print(f\"Number of rows in validation set: {len(val_df)}\")\n",
    "print(f\"Number of rows in test set: {len(test_df)}\")\n",
    "\n"
   ],
   "metadata": {
    "pycharm": {
     "name": "#%%\n"
    },
    "colab": {
     "base_uri": "https://localhost:8080/"
    },
    "id": "sPhp_GiJKE4l",
    "outputId": "a5330643-e832-4c15-9337-8b52c79227cf"
   }
  },
  {
   "cell_type": "markdown",
   "source": [
    "#### MULTI HOT ENCODING\n",
    "We will convert the  categorical data into a form that can be used by deep learning models.\n",
    "because we are dealing with multi-label classification problem.\n"
   ],
   "metadata": {
    "collapsed": false,
    "pycharm": {
     "name": "#%% md\n"
    },
    "id": "00P4HbyVKE4l"
   }
  },
  {
   "cell_type": "code",
   "execution_count": 120,
   "outputs": [
    {
     "name": "stdout",
     "output_type": "stream",
     "text": [
      "set()\n"
     ]
    }
   ],
   "source": [
    "# Convert tensors to numpy arrays and then to sets of tuples for set operations\n",
    "train_categories_tensor = tf.ragged.constant(train_df[\"category\"].values)\n",
    "test_categories_tensor = tf.ragged.constant(test_df[\"category\"].values)\n",
    "\n",
    "train_categories = set(tuple(x) for x in train_categories_tensor.to_list())\n",
    "test_categories = set(tuple(x) for x in test_categories_tensor.to_list())\n",
    "\n",
    "categories_not_in_train = test_categories - train_categories\n",
    "\n",
    "print(categories_not_in_train)\n"
   ],
   "metadata": {
    "pycharm": {
     "name": "#%%\n"
    },
    "colab": {
     "base_uri": "https://localhost:8080/"
    },
    "id": "pWoax51XKE4l",
    "outputId": "d0f6210b-db0e-475b-b6ee-75268e3c82e5"
   }
  },
  {
   "cell_type": "markdown",
   "source": [
    "the result is an empty set (set())- it means there are no categories that exist in the test set but not in the training set"
   ],
   "metadata": {
    "collapsed": false,
    "pycharm": {
     "name": "#%% md\n"
    },
    "id": "JJpKHhInKE4m"
   }
  },
  {
   "cell_type": "code",
   "execution_count": 121,
   "outputs": [
    {
     "name": "stdout",
     "output_type": "stream",
     "text": [
      "Vocabulary:\n",
      "\n",
      "['Land use', 'other', 'Environment and climate resilience', 'Local identity', 'Future of work', 'Mobility (transport)']\n"
     ]
    },
    {
     "name": "stderr",
     "output_type": "stream",
     "text": [
      "2023-05-25 10:23:44.258874: I tensorflow/core/common_runtime/executor.cc:1197] [/device:CPU:0] (DEBUG INFO) Executor start aborting (this does not indicate an error and you can ignore this message): INVALID_ARGUMENT: You must feed a value for placeholder tensor 'Placeholder/_0' with dtype variant and shape [252]\n",
      "\t [[{{node Placeholder/_0}}]]\n"
     ]
    }
   ],
   "source": [
    "categories = tf.ragged.constant(train_df[\"category\"].values)\n",
    "lookup = tf.keras.layers.StringLookup(output_mode=\"multi_hot\", num_oov_indices=0)\n",
    "lookup.adapt(categories)\n",
    "vocab = lookup.get_vocabulary()\n",
    "\n",
    "\n",
    "def invert_multi_hot(encoded_labels):\n",
    "    \"\"\"Reverse a single multi-hot encoded label to a tuple of vocab terms.\"\"\"\n",
    "    hot_indices = np.argwhere(encoded_labels == 1.0)[..., 0]\n",
    "    return np.take(vocab, hot_indices)\n",
    "\n",
    "\n",
    "print(\"Vocabulary:\\n\")\n",
    "print(vocab)"
   ],
   "metadata": {
    "pycharm": {
     "name": "#%%\n"
    },
    "colab": {
     "base_uri": "https://localhost:8080/"
    },
    "id": "AuG-jgJqKE4m",
    "outputId": "f1bce2e6-b3bb-4293-a1e5-8d709bd6da6d"
   }
  },
  {
   "cell_type": "code",
   "execution_count": 122,
   "outputs": [
    {
     "name": "stdout",
     "output_type": "stream",
     "text": [
      "Original label: ['Future of work']\n",
      "Label-binarized representation: [[0. 0. 0. 0. 1. 0.]]\n"
     ]
    }
   ],
   "source": [
    "sample_label = train_df[\"category\"].iloc[0]\n",
    "print(f\"Original label: {sample_label}\")\n",
    "\n",
    "label_binarized = lookup([sample_label])\n",
    "print(f\"Label-binarized representation: {label_binarized}\")"
   ],
   "metadata": {
    "pycharm": {
     "name": "#%%\n"
    },
    "colab": {
     "base_uri": "https://localhost:8080/"
    },
    "id": "_Dpiz2rWKE4m",
    "outputId": "fca70b6d-c3f0-4513-c4aa-f131d5a5fb09"
   }
  },
  {
   "cell_type": "code",
   "execution_count": 123,
   "outputs": [
    {
     "data": {
      "text/plain": "count    252.000000\nmean      13.579365\nstd       22.727681\nmin        1.000000\n25%        5.000000\n50%        8.000000\n75%       14.000000\nmax      179.000000\nName: Sentence, dtype: float64"
     },
     "execution_count": 123,
     "metadata": {},
     "output_type": "execute_result"
    }
   ],
   "source": [
    "train_df[\"Sentence\"].apply(lambda x: len(x.split(\" \"))).describe()\n"
   ],
   "metadata": {
    "pycharm": {
     "name": "#%%\n"
    },
    "colab": {
     "base_uri": "https://localhost:8080/"
    },
    "id": "8IGcKToYKE4m",
    "outputId": "24085bac-5d0b-4c73-936b-4c642401c491"
   }
  },
  {
   "cell_type": "markdown",
   "source": [
    " the 75th percentile is at 13, meaning that 75% of the sentences have a length of 13 or less.\n",
    " and the maximum length observed is 179"
   ],
   "metadata": {
    "collapsed": false,
    "pycharm": {
     "name": "#%% md\n"
    },
    "id": "TfwV31juKE4m"
   }
  },
  {
   "cell_type": "markdown",
   "source": [
    "#### MAKE DATASET OBJECT FROM DF"
   ],
   "metadata": {
    "id": "J1OLR2X9OeFz",
    "pycharm": {
     "name": "#%% md\n"
    }
   }
  },
  {
   "cell_type": "code",
   "execution_count": 124,
   "outputs": [],
   "source": [
    "\n",
    "max_seqlen = 20\n",
    "batch_size = 128\n",
    "padding_token = \"<pad>\"\n",
    "auto = tf.data.AUTOTUNE\n",
    "\n",
    "\n",
    "def make_dataset(dataframe, is_train=True):\n",
    "    labels = tf.ragged.constant(dataframe[\"category\"].values)\n",
    "    label_binarized = lookup(labels).numpy()\n",
    "    dataset = tf.data.Dataset.from_tensor_slices(\n",
    "        (dataframe[\"Sentence\"].values, label_binarized)\n",
    "    )\n",
    "    dataset = dataset.shuffle(batch_size * 10) if is_train else dataset\n",
    "    return dataset.batch(batch_size)"
   ],
   "metadata": {
    "pycharm": {
     "name": "#%%\n"
    },
    "id": "RTlTtR2mKE4m"
   }
  },
  {
   "cell_type": "code",
   "execution_count": 125,
   "outputs": [],
   "source": [
    "train_dataset = make_dataset(train_df, is_train=True)\n",
    "validation_dataset = make_dataset(val_df, is_train=False)\n",
    "test_dataset = make_dataset(test_df, is_train=False)\n"
   ],
   "metadata": {
    "pycharm": {
     "name": "#%%\n"
    },
    "id": "fDzqGk2TKE4n"
   }
  },
  {
   "cell_type": "markdown",
   "source": [
    "#### DATA DISTRIBUTION "
   ],
   "metadata": {
    "id": "PCLAN0WmOvJQ",
    "pycharm": {
     "name": "#%% md\n"
    }
   }
  },
  {
   "cell_type": "code",
   "execution_count": 126,
   "outputs": [],
   "source": [
    "from collections import Counter\n",
    "\n",
    "def label_distribution(df):\n",
    "    flat_categories = [category for sublist in df[\"category\"] for category in sublist]\n",
    "    counts = Counter(flat_categories)\n",
    "    print(\"distribution:\")\n",
    "    for category, count in counts.items():\n",
    "        print(f\"{category}: {count}\")\n",
    "    print(\"\")"
   ],
   "metadata": {
    "pycharm": {
     "name": "#%%\n"
    },
    "id": "3vaPydxUKE4v"
   }
  },
  {
   "cell_type": "code",
   "source": [
    "print(\"DATA\")\n",
    "label_distribution(data)\n",
    "pd.DataFrame(data[\"Sentence\"].apply(lambda x: len(x.split(\" \"))).describe())"
   ],
   "metadata": {
    "colab": {
     "base_uri": "https://localhost:8080/",
     "height": 0
    },
    "id": "wDncZ4YiU01a",
    "outputId": "47c8e894-43a9-4d37-e41a-373f538973d1",
    "pycharm": {
     "name": "#%%\n"
    }
   },
   "execution_count": 127,
   "outputs": [
    {
     "name": "stdout",
     "output_type": "stream",
     "text": [
      "DATA\n",
      "distribution:\n",
      "Land use: 108\n",
      "Local identity: 73\n",
      "Future of work: 48\n",
      "other: 88\n",
      "Environment and climate resilience: 76\n",
      "Mobility (transport): 12\n",
      "\n"
     ]
    },
    {
     "data": {
      "text/plain": "         Sentence\ncount  360.000000\nmean    13.208333\nstd     22.649772\nmin      1.000000\n25%      5.000000\n50%      8.000000\n75%     13.000000\nmax    179.000000",
      "text/html": "<div>\n<style scoped>\n    .dataframe tbody tr th:only-of-type {\n        vertical-align: middle;\n    }\n\n    .dataframe tbody tr th {\n        vertical-align: top;\n    }\n\n    .dataframe thead th {\n        text-align: right;\n    }\n</style>\n<table border=\"1\" class=\"dataframe\">\n  <thead>\n    <tr style=\"text-align: right;\">\n      <th></th>\n      <th>Sentence</th>\n    </tr>\n  </thead>\n  <tbody>\n    <tr>\n      <th>count</th>\n      <td>360.000000</td>\n    </tr>\n    <tr>\n      <th>mean</th>\n      <td>13.208333</td>\n    </tr>\n    <tr>\n      <th>std</th>\n      <td>22.649772</td>\n    </tr>\n    <tr>\n      <th>min</th>\n      <td>1.000000</td>\n    </tr>\n    <tr>\n      <th>25%</th>\n      <td>5.000000</td>\n    </tr>\n    <tr>\n      <th>50%</th>\n      <td>8.000000</td>\n    </tr>\n    <tr>\n      <th>75%</th>\n      <td>13.000000</td>\n    </tr>\n    <tr>\n      <th>max</th>\n      <td>179.000000</td>\n    </tr>\n  </tbody>\n</table>\n</div>"
     },
     "execution_count": 127,
     "metadata": {},
     "output_type": "execute_result"
    }
   ]
  },
  {
   "cell_type": "code",
   "source": [
    "print(\"TRAIN\")\n",
    "label_distribution(train_df)\n",
    "pd.DataFrame(train_df[\"Sentence\"].apply(lambda x: len(x.split(\" \"))).describe())"
   ],
   "metadata": {
    "colab": {
     "base_uri": "https://localhost:8080/",
     "height": 0
    },
    "id": "7eW1cHACTy_o",
    "outputId": "9baa481e-d76a-4d42-abe1-7152fc1d055e",
    "pycharm": {
     "name": "#%%\n"
    }
   },
   "execution_count": 128,
   "outputs": [
    {
     "name": "stdout",
     "output_type": "stream",
     "text": [
      "TRAIN\n",
      "distribution:\n",
      "Future of work: 33\n",
      "Environment and climate resilience: 53\n",
      "Local identity: 52\n",
      "Land use: 75\n",
      "other: 62\n",
      "Mobility (transport): 8\n",
      "\n"
     ]
    },
    {
     "data": {
      "text/plain": "         Sentence\ncount  252.000000\nmean    13.579365\nstd     22.727681\nmin      1.000000\n25%      5.000000\n50%      8.000000\n75%     14.000000\nmax    179.000000",
      "text/html": "<div>\n<style scoped>\n    .dataframe tbody tr th:only-of-type {\n        vertical-align: middle;\n    }\n\n    .dataframe tbody tr th {\n        vertical-align: top;\n    }\n\n    .dataframe thead th {\n        text-align: right;\n    }\n</style>\n<table border=\"1\" class=\"dataframe\">\n  <thead>\n    <tr style=\"text-align: right;\">\n      <th></th>\n      <th>Sentence</th>\n    </tr>\n  </thead>\n  <tbody>\n    <tr>\n      <th>count</th>\n      <td>252.000000</td>\n    </tr>\n    <tr>\n      <th>mean</th>\n      <td>13.579365</td>\n    </tr>\n    <tr>\n      <th>std</th>\n      <td>22.727681</td>\n    </tr>\n    <tr>\n      <th>min</th>\n      <td>1.000000</td>\n    </tr>\n    <tr>\n      <th>25%</th>\n      <td>5.000000</td>\n    </tr>\n    <tr>\n      <th>50%</th>\n      <td>8.000000</td>\n    </tr>\n    <tr>\n      <th>75%</th>\n      <td>14.000000</td>\n    </tr>\n    <tr>\n      <th>max</th>\n      <td>179.000000</td>\n    </tr>\n  </tbody>\n</table>\n</div>"
     },
     "execution_count": 128,
     "metadata": {},
     "output_type": "execute_result"
    }
   ]
  },
  {
   "cell_type": "code",
   "source": [
    "print(\"\\nVAL\")\n",
    "label_distribution(val_df)\n",
    "pd.DataFrame(val_df[\"Sentence\"].apply(lambda x: len(x.split(\" \"))).describe())"
   ],
   "metadata": {
    "colab": {
     "base_uri": "https://localhost:8080/",
     "height": 0
    },
    "id": "WexaguC3UjM2",
    "outputId": "ef37245a-d6b9-4fef-ccbe-d85cf98b9f84",
    "pycharm": {
     "name": "#%%\n"
    }
   },
   "execution_count": 129,
   "outputs": [
    {
     "name": "stdout",
     "output_type": "stream",
     "text": [
      "\n",
      "VAL\n",
      "distribution:\n",
      "Local identity: 16\n",
      "Land use: 16\n",
      "Environment and climate resilience: 10\n",
      "other: 13\n",
      "Future of work: 6\n",
      "Mobility (transport): 1\n",
      "\n"
     ]
    },
    {
     "data": {
      "text/plain": "         Sentence\ncount   54.000000\nmean    15.574074\nstd     31.091224\nmin      1.000000\n25%      4.000000\n50%      8.000000\n75%     12.000000\nmax    179.000000",
      "text/html": "<div>\n<style scoped>\n    .dataframe tbody tr th:only-of-type {\n        vertical-align: middle;\n    }\n\n    .dataframe tbody tr th {\n        vertical-align: top;\n    }\n\n    .dataframe thead th {\n        text-align: right;\n    }\n</style>\n<table border=\"1\" class=\"dataframe\">\n  <thead>\n    <tr style=\"text-align: right;\">\n      <th></th>\n      <th>Sentence</th>\n    </tr>\n  </thead>\n  <tbody>\n    <tr>\n      <th>count</th>\n      <td>54.000000</td>\n    </tr>\n    <tr>\n      <th>mean</th>\n      <td>15.574074</td>\n    </tr>\n    <tr>\n      <th>std</th>\n      <td>31.091224</td>\n    </tr>\n    <tr>\n      <th>min</th>\n      <td>1.000000</td>\n    </tr>\n    <tr>\n      <th>25%</th>\n      <td>4.000000</td>\n    </tr>\n    <tr>\n      <th>50%</th>\n      <td>8.000000</td>\n    </tr>\n    <tr>\n      <th>75%</th>\n      <td>12.000000</td>\n    </tr>\n    <tr>\n      <th>max</th>\n      <td>179.000000</td>\n    </tr>\n  </tbody>\n</table>\n</div>"
     },
     "execution_count": 129,
     "metadata": {},
     "output_type": "execute_result"
    }
   ]
  },
  {
   "cell_type": "code",
   "source": [
    "print(\"\\nTEST\")\n",
    "label_distribution(test_df)\n",
    "pd.DataFrame(test_df[\"Sentence\"].apply(lambda x: len(x.split(\" \"))).describe())"
   ],
   "metadata": {
    "colab": {
     "base_uri": "https://localhost:8080/",
     "height": 0
    },
    "id": "8dP1kDHWUlX9",
    "outputId": "0cbec435-78c1-46d7-e67a-000182c6deea",
    "pycharm": {
     "name": "#%%\n"
    }
   },
   "execution_count": 130,
   "outputs": [
    {
     "name": "stdout",
     "output_type": "stream",
     "text": [
      "\n",
      "TEST\n",
      "distribution:\n",
      "other: 13\n",
      "Environment and climate resilience: 13\n",
      "Future of work: 9\n",
      "Land use: 17\n",
      "Mobility (transport): 3\n",
      "Local identity: 5\n",
      "\n"
     ]
    },
    {
     "data": {
      "text/plain": "        Sentence\ncount  54.000000\nmean    9.111111\nstd     6.206104\nmin     1.000000\n25%     5.000000\n50%     7.500000\n75%    12.750000\nmax    28.000000",
      "text/html": "<div>\n<style scoped>\n    .dataframe tbody tr th:only-of-type {\n        vertical-align: middle;\n    }\n\n    .dataframe tbody tr th {\n        vertical-align: top;\n    }\n\n    .dataframe thead th {\n        text-align: right;\n    }\n</style>\n<table border=\"1\" class=\"dataframe\">\n  <thead>\n    <tr style=\"text-align: right;\">\n      <th></th>\n      <th>Sentence</th>\n    </tr>\n  </thead>\n  <tbody>\n    <tr>\n      <th>count</th>\n      <td>54.000000</td>\n    </tr>\n    <tr>\n      <th>mean</th>\n      <td>9.111111</td>\n    </tr>\n    <tr>\n      <th>std</th>\n      <td>6.206104</td>\n    </tr>\n    <tr>\n      <th>min</th>\n      <td>1.000000</td>\n    </tr>\n    <tr>\n      <th>25%</th>\n      <td>5.000000</td>\n    </tr>\n    <tr>\n      <th>50%</th>\n      <td>7.500000</td>\n    </tr>\n    <tr>\n      <th>75%</th>\n      <td>12.750000</td>\n    </tr>\n    <tr>\n      <th>max</th>\n      <td>28.000000</td>\n    </tr>\n  </tbody>\n</table>\n</div>"
     },
     "execution_count": 130,
     "metadata": {},
     "output_type": "execute_result"
    }
   ]
  },
  {
   "cell_type": "code",
   "execution_count": 131,
   "outputs": [
    {
     "name": "stdout",
     "output_type": "stream",
     "text": [
      "EXAMPLE OF HOT-ENCODING\n",
      "[1. 0. 0. 0. 0. 0.]\n",
      "Abstract: b'\"it should be climate neutral or even positive. Can we provide a good natural ventilation?\"'\n",
      "Label(s): ['Land use']\n",
      " \n"
     ]
    },
    {
     "name": "stderr",
     "output_type": "stream",
     "text": [
      "2023-05-25 10:23:53.212474: I tensorflow/core/common_runtime/executor.cc:1197] [/device:CPU:0] (DEBUG INFO) Executor start aborting (this does not indicate an error and you can ignore this message): INVALID_ARGUMENT: You must feed a value for placeholder tensor 'Placeholder/_0' with dtype string and shape [252]\n",
      "\t [[{{node Placeholder/_0}}]]\n",
      "2023-05-25 10:23:53.212940: I tensorflow/core/common_runtime/executor.cc:1197] [/device:CPU:0] (DEBUG INFO) Executor start aborting (this does not indicate an error and you can ignore this message): INVALID_ARGUMENT: You must feed a value for placeholder tensor 'Placeholder/_1' with dtype float and shape [252,6]\n",
      "\t [[{{node Placeholder/_1}}]]\n"
     ]
    }
   ],
   "source": [
    "print(\"EXAMPLE OF HOT-ENCODING\")\n",
    "text_batch, label_batch = next(iter(train_dataset))\n",
    "\n",
    "for i, text in enumerate(text_batch[1:2]):\n",
    "    label = label_batch[i].numpy()[None, ...]\n",
    "    print(label[0])\n",
    "    print(f\"Abstract: {text}\")\n",
    "    print(f\"Label(s): {invert_multi_hot(label[0])}\")\n",
    "    print(\" \")\n"
   ],
   "metadata": {
    "pycharm": {
     "name": "#%%\n"
    },
    "colab": {
     "base_uri": "https://localhost:8080/"
    },
    "id": "wqa7KzoiKE4v",
    "outputId": "2e215abb-52e1-4e47-dc59-81a80af769df"
   }
  },
  {
   "cell_type": "code",
   "execution_count": 132,
   "outputs": [
    {
     "name": "stdout",
     "output_type": "stream",
     "text": [
      "vocabulary_size:  996\n"
     ]
    }
   ],
   "source": [
    "vocabulary = set()\n",
    "train_df[\"Sentence\"].str.lower().str.split().apply(vocabulary.update)\n",
    "vocabulary_size = len(vocabulary)\n",
    "print(\"vocabulary_size: \",vocabulary_size)"
   ],
   "metadata": {
    "pycharm": {
     "name": "#%%\n"
    },
    "colab": {
     "base_uri": "https://localhost:8080/"
    },
    "id": "bNXbZ3ddKE4v",
    "outputId": "aa153796-6b25-4186-e16e-93e853f6fdb7"
   }
  },
  {
   "cell_type": "markdown",
   "source": [
    "### TF-IDF Model"
   ],
   "metadata": {
    "collapsed": false,
    "pycharm": {
     "name": "#%% md\n"
    }
   }
  },
  {
   "cell_type": "code",
   "execution_count": 133,
   "outputs": [
    {
     "name": "stderr",
     "output_type": "stream",
     "text": [
      "2023-05-25 10:23:55.819089: I tensorflow/core/common_runtime/executor.cc:1197] [/device:CPU:0] (DEBUG INFO) Executor start aborting (this does not indicate an error and you can ignore this message): INVALID_ARGUMENT: You must feed a value for placeholder tensor 'Placeholder/_1' with dtype float and shape [252,6]\n",
      "\t [[{{node Placeholder/_1}}]]\n",
      "2023-05-25 10:23:55.819512: I tensorflow/core/common_runtime/executor.cc:1197] [/device:CPU:0] (DEBUG INFO) Executor start aborting (this does not indicate an error and you can ignore this message): INVALID_ARGUMENT: You must feed a value for placeholder tensor 'Placeholder/_1' with dtype float and shape [252,6]\n",
      "\t [[{{node Placeholder/_1}}]]\n"
     ]
    }
   ],
   "source": [
    "from tensorflow.keras import layers\n",
    "text_vectorizer = layers.TextVectorization(\n",
    "    max_tokens=vocabulary_size, ngrams=2, output_mode=\"tf_idf\"\n",
    ")\n",
    "\n",
    "# `TextVectorization` layer needs to be adapted as per the vocabulary from our\n",
    "# training set.\n",
    "with tf.device(\"/CPU:0\"):\n",
    "    text_vectorizer.adapt(train_dataset.map(lambda text, label: text))\n",
    "\n",
    "train_dataset = train_dataset.map(\n",
    "    lambda text, label: (text_vectorizer(text), label), num_parallel_calls=auto\n",
    ").prefetch(auto)\n",
    "validation_dataset = validation_dataset.map(\n",
    "    lambda text, label: (text_vectorizer(text), label), num_parallel_calls=auto\n",
    ").prefetch(auto)\n",
    "test_dataset = test_dataset.map(\n",
    "    lambda text, label: (text_vectorizer(text), label), num_parallel_calls=auto\n",
    ").prefetch(auto)"
   ],
   "metadata": {
    "collapsed": false,
    "pycharm": {
     "name": "#%%\n"
    }
   }
  },
  {
   "cell_type": "code",
   "execution_count": 134,
   "outputs": [],
   "source": [
    "class F1Score(metrics.Metric):\n",
    "    def __init__(self, name='f1_score', **kwargs):\n",
    "        super().__init__(name=name, **kwargs)\n",
    "        self.precision = metrics.Precision()\n",
    "        self.recall = metrics.Recall()\n",
    "\n",
    "    def update_state(self, y_true, y_pred, sample_weight=None):\n",
    "        self.precision.update_state(y_true, y_pred, sample_weight)\n",
    "        self.recall.update_state(y_true, y_pred, sample_weight)\n",
    "\n",
    "    def reset_state(self):\n",
    "        self.precision.reset_state()\n",
    "        self.recall.reset_state()\n",
    "\n",
    "    def result(self):\n",
    "       precision = self.precision.result()\n",
    "       recall = self.recall.result()\n",
    "       return 2 * ((precision * recall) / (precision + recall + tf.keras.backend.epsilon()))"
   ],
   "metadata": {
    "pycharm": {
     "name": "#%%\n"
    },
    "id": "cdOhthP-KE41"
   }
  },
  {
   "cell_type": "code",
   "execution_count": 135,
   "outputs": [],
   "source": [
    "def plot_result(item):\n",
    "    plt.plot(history.history[item], label=item)\n",
    "    plt.plot(history.history[\"val_\" + item], label=\"val_\" + item)\n",
    "    plt.xlabel(\"Epochs\")\n",
    "    plt.ylabel(item)\n",
    "    plt.title(\"Train and Validation {} Over Epochs\".format(item), fontsize=14)\n",
    "    plt.legend()\n",
    "    plt.grid()\n",
    "    plt.show()"
   ],
   "metadata": {
    "pycharm": {
     "name": "#%%\n"
    },
    "id": "8AotfOGhKE41"
   }
  },
  {
   "cell_type": "markdown",
   "source": [
    "### Create a text classification Model"
   ],
   "metadata": {
    "collapsed": false,
    "pycharm": {
     "name": "#%% md\n"
    }
   }
  },
  {
   "cell_type": "code",
   "execution_count": 136,
   "outputs": [],
   "source": [
    "from tensorflow.keras import layers\n",
    "def make_model():\n",
    "    mlp_model = tf.keras.Sequential(\n",
    "        [\n",
    "            layers.Dense(512, activation=\"relu\"),\n",
    "            layers.Dense(256, activation=\"relu\"),\n",
    "            layers.Dense(128, activation=\"relu\"),\n",
    "            layers.Dense(64, activation=\"relu\"),\n",
    "            layers.Dense(lookup.vocabulary_size(), activation=\"sigmoid\"),\n",
    "        ]  # More on why \"sigmoid\" has been used here in a moment.\n",
    "    )\n",
    "    return mlp_model\n"
   ],
   "metadata": {
    "collapsed": false,
    "pycharm": {
     "name": "#%%\n"
    }
   }
  },
  {
   "cell_type": "markdown",
   "source": [
    "## Train the model"
   ],
   "metadata": {
    "collapsed": false,
    "pycharm": {
     "name": "#%% md\n"
    }
   }
  },
  {
   "cell_type": "markdown",
   "source": [
    "#### class to evaluate the model"
   ],
   "metadata": {
    "collapsed": false,
    "pycharm": {
     "name": "#%% md\n"
    }
   }
  },
  {
   "cell_type": "code",
   "execution_count": 137,
   "outputs": [
    {
     "name": "stdout",
     "output_type": "stream",
     "text": [
      "Epoch 1/16\n"
     ]
    },
    {
     "name": "stderr",
     "output_type": "stream",
     "text": [
      "2023-05-25 10:24:09.116692: I tensorflow/core/common_runtime/executor.cc:1197] [/device:CPU:0] (DEBUG INFO) Executor start aborting (this does not indicate an error and you can ignore this message): INVALID_ARGUMENT: You must feed a value for placeholder tensor 'Placeholder/_0' with dtype string and shape [252]\n",
      "\t [[{{node Placeholder/_0}}]]\n",
      "2023-05-25 10:24:09.117360: I tensorflow/core/common_runtime/executor.cc:1197] [/device:CPU:0] (DEBUG INFO) Executor start aborting (this does not indicate an error and you can ignore this message): INVALID_ARGUMENT: You must feed a value for placeholder tensor 'Placeholder/_1' with dtype float and shape [252,6]\n",
      "\t [[{{node Placeholder/_1}}]]\n"
     ]
    },
    {
     "name": "stdout",
     "output_type": "stream",
     "text": [
      "1/2 [==============>...............] - ETA: 2s - loss: 0.8444 - binary_accuracy: 0.4518 - precision: 0.2017 - recall: 0.6370 - f1_score: 0.3064"
     ]
    },
    {
     "name": "stderr",
     "output_type": "stream",
     "text": [
      "2023-05-25 10:24:11.413280: I tensorflow/core/common_runtime/executor.cc:1197] [/device:CPU:0] (DEBUG INFO) Executor start aborting (this does not indicate an error and you can ignore this message): INVALID_ARGUMENT: You must feed a value for placeholder tensor 'Placeholder/_9' with dtype int64\n",
      "\t [[{{node Placeholder/_9}}]]\n",
      "2023-05-25 10:24:11.413560: I tensorflow/core/common_runtime/executor.cc:1197] [/device:CPU:0] (DEBUG INFO) Executor start aborting (this does not indicate an error and you can ignore this message): INVALID_ARGUMENT: You must feed a value for placeholder tensor 'Placeholder/_10' with dtype float and shape [996]\n",
      "\t [[{{node Placeholder/_10}}]]\n"
     ]
    },
    {
     "name": "stdout",
     "output_type": "stream",
     "text": [
      "2/2 [==============================] - 3s 579ms/step - loss: 0.7219 - binary_accuracy: 0.6032 - precision: 0.2016 - recall: 0.5075 - f1_score: 0.2847 - val_loss: 0.5741 - val_binary_accuracy: 0.7932 - val_precision: 0.2135 - val_recall: 0.3478 - val_f1_score: 0.2646\n",
      "Epoch 2/16\n",
      "2/2 [==============================] - 0s 79ms/step - loss: 0.5408 - binary_accuracy: 0.8049 - precision: 0.2307 - recall: 0.2564 - f1_score: 0.2424 - val_loss: 0.5777 - val_binary_accuracy: 0.8025 - val_precision: 0.2439 - val_recall: 0.2319 - val_f1_score: 0.2377\n",
      "Epoch 3/16\n",
      "2/2 [==============================] - 0s 77ms/step - loss: 0.5046 - binary_accuracy: 0.8188 - precision: 0.2609 - recall: 0.1998 - f1_score: 0.2261 - val_loss: 0.5845 - val_binary_accuracy: 0.8086 - val_precision: 0.2668 - val_recall: 0.1807 - val_f1_score: 0.2154\n",
      "Epoch 4/16\n",
      "2/2 [==============================] - 0s 76ms/step - loss: 0.4747 - binary_accuracy: 0.8221 - precision: 0.2815 - recall: 0.1643 - f1_score: 0.2074 - val_loss: 0.5799 - val_binary_accuracy: 0.8086 - val_precision: 0.2911 - val_recall: 0.1580 - val_f1_score: 0.2048\n",
      "Epoch 5/16\n",
      "2/2 [==============================] - 0s 96ms/step - loss: 0.4472 - binary_accuracy: 0.8333 - precision: 0.3130 - recall: 0.1544 - f1_score: 0.2068 - val_loss: 0.5568 - val_binary_accuracy: 0.8179 - val_precision: 0.3288 - val_recall: 0.1554 - val_f1_score: 0.2110\n",
      "Epoch 6/16\n",
      "2/2 [==============================] - 0s 75ms/step - loss: 0.4085 - binary_accuracy: 0.8552 - precision: 0.3659 - recall: 0.1656 - f1_score: 0.2280 - val_loss: 0.5586 - val_binary_accuracy: 0.8148 - val_precision: 0.3831 - val_recall: 0.1686 - val_f1_score: 0.2341\n",
      "Epoch 7/16\n",
      "2/2 [==============================] - 0s 78ms/step - loss: 0.3745 - binary_accuracy: 0.8644 - precision: 0.4219 - recall: 0.1821 - f1_score: 0.2544 - val_loss: 0.5459 - val_binary_accuracy: 0.8179 - val_precision: 0.4353 - val_recall: 0.1839 - val_f1_score: 0.2585\n",
      "Epoch 8/16\n",
      "2/2 [==============================] - 0s 84ms/step - loss: 0.3378 - binary_accuracy: 0.8816 - precision: 0.4727 - recall: 0.1975 - f1_score: 0.2786 - val_loss: 0.5195 - val_binary_accuracy: 0.8179 - val_precision: 0.4891 - val_recall: 0.2029 - val_f1_score: 0.2868\n",
      "Epoch 9/16\n",
      "2/2 [==============================] - 0s 72ms/step - loss: 0.3066 - binary_accuracy: 0.9008 - precision: 0.5304 - recall: 0.2239 - f1_score: 0.3149 - val_loss: 0.5139 - val_binary_accuracy: 0.8395 - val_precision: 0.5448 - val_recall: 0.2312 - val_f1_score: 0.3247\n",
      "Epoch 10/16\n",
      "2/2 [==============================] - 0s 68ms/step - loss: 0.2729 - binary_accuracy: 0.9061 - precision: 0.5785 - recall: 0.2529 - f1_score: 0.3520 - val_loss: 0.5377 - val_binary_accuracy: 0.8302 - val_precision: 0.5878 - val_recall: 0.2580 - val_f1_score: 0.3586\n",
      "Epoch 11/16\n",
      "2/2 [==============================] - 0s 68ms/step - loss: 0.2442 - binary_accuracy: 0.9061 - precision: 0.6136 - recall: 0.2755 - f1_score: 0.3802 - val_loss: 0.5149 - val_binary_accuracy: 0.8519 - val_precision: 0.6236 - val_recall: 0.2798 - val_f1_score: 0.3863\n",
      "Epoch 12/16\n",
      "2/2 [==============================] - 0s 77ms/step - loss: 0.2154 - binary_accuracy: 0.9173 - precision: 0.6477 - recall: 0.2960 - f1_score: 0.4063 - val_loss: 0.5110 - val_binary_accuracy: 0.8364 - val_precision: 0.6552 - val_recall: 0.2998 - val_f1_score: 0.4113\n",
      "Epoch 13/16\n",
      "2/2 [==============================] - 0s 84ms/step - loss: 0.1910 - binary_accuracy: 0.9352 - precision: 0.6770 - recall: 0.3207 - f1_score: 0.4352 - val_loss: 0.5137 - val_binary_accuracy: 0.8272 - val_precision: 0.6806 - val_recall: 0.3273 - val_f1_score: 0.4420\n",
      "Epoch 14/16\n",
      "2/2 [==============================] - 0s 76ms/step - loss: 0.1645 - binary_accuracy: 0.9530 - precision: 0.6998 - recall: 0.3488 - f1_score: 0.4655 - val_loss: 0.5152 - val_binary_accuracy: 0.8457 - val_precision: 0.7068 - val_recall: 0.3549 - val_f1_score: 0.4725\n",
      "Epoch 15/16\n",
      "2/2 [==============================] - 0s 69ms/step - loss: 0.1447 - binary_accuracy: 0.9537 - precision: 0.7235 - recall: 0.3724 - f1_score: 0.4917 - val_loss: 0.5545 - val_binary_accuracy: 0.8488 - val_precision: 0.7299 - val_recall: 0.3770 - val_f1_score: 0.4972\n",
      "Epoch 16/16\n",
      "2/2 [==============================] - 0s 76ms/step - loss: 0.1253 - binary_accuracy: 0.9616 - precision: 0.7448 - recall: 0.3943 - f1_score: 0.5157 - val_loss: 0.5796 - val_binary_accuracy: 0.8457 - val_precision: 0.7495 - val_recall: 0.3989 - val_f1_score: 0.5207\n"
     ]
    }
   ],
   "source": [
    "epochs = 16\n",
    "\n",
    "shallow_mlp_model = make_model()\n",
    "shallow_mlp_model.compile(\n",
    "    loss=\"binary_crossentropy\",\n",
    "    optimizer=\"adam\",\n",
    "    metrics=[\n",
    "        \"binary_accuracy\", #\"binary_accuracy\" checks for each position if the prediction is correct.\n",
    "        metrics.Precision(name='precision'),\n",
    "        metrics.Recall(name='recall'),\n",
    "        F1Score()\n",
    "    ]\n",
    ")\n",
    "\n",
    "history = shallow_mlp_model.fit(\n",
    "    train_dataset, validation_data=validation_dataset, epochs=epochs\n",
    ")"
   ],
   "metadata": {
    "collapsed": false,
    "pycharm": {
     "name": "#%%\n"
    }
   }
  },
  {
   "cell_type": "code",
   "execution_count": 138,
   "outputs": [],
   "source": [
    "# Save the model\n",
    "shallow_mlp_model.save('model_text_clf_bert_70_FINAL.h5')"
   ],
   "metadata": {
    "collapsed": false,
    "pycharm": {
     "name": "#%%\n"
    }
   }
  },
  {
   "cell_type": "code",
   "execution_count": 139,
   "outputs": [],
   "source": [
    "test_df.to_csv(\"test_df_70.csv\", index=False)"
   ],
   "metadata": {
    "collapsed": false,
    "pycharm": {
     "name": "#%%\n"
    }
   }
  },
  {
   "cell_type": "code",
   "execution_count": 140,
   "outputs": [
    {
     "data": {
      "text/plain": "<Figure size 640x480 with 1 Axes>",
      "image/png": "[encoded data removed]"
     },
     "metadata": {},
     "output_type": "display_data"
    },
    {
     "data": {
      "text/plain": "<Figure size 640x480 with 1 Axes>",
      "image/png": "[encoded data removed]"
     },
     "metadata": {},
     "output_type": "display_data"
    },
    {
     "data": {
      "text/plain": "<Figure size 640x480 with 1 Axes>",
      "image/png": "[encoded data removed]"
     },
     "metadata": {},
     "output_type": "display_data"
    },
    {
     "data": {
      "text/plain": "<Figure size 640x480 with 1 Axes>",
      "image/png": "[encoded data removed]"
     },
     "metadata": {},
     "output_type": "display_data"
    },
    {
     "data": {
      "text/plain": "<Figure size 640x480 with 1 Axes>",
      "image/png": "[encoded data removed]"
     },
     "metadata": {},
     "output_type": "display_data"
    }
   ],
   "source": [
    "plot_result(\"loss\")\n",
    "plot_result(\"binary_accuracy\")\n",
    "plot_result(\"precision\")\n",
    "plot_result(\"recall\")\n",
    "plot_result(\"f1_score\")\n"
   ],
   "metadata": {
    "collapsed": false,
    "pycharm": {
     "name": "#%%\n"
    }
   }
  },
  {
   "cell_type": "markdown",
   "source": [
    "### Test part:\n",
    "1. Predict labels for the test set using the model.\n",
    "2. Convert these predicted probabilities to binary format (0 or 1) using a threshold of 5.\n",
    "3. For each category:\n",
    "* Extract the true and predicted labels for this category.\n",
    "* Calculate and print the accuracy, precision, recall, and F1 score.\n",
    "* Calculate and plot a confusion matrix for the category.\n"
   ],
   "metadata": {
    "collapsed": false,
    "pycharm": {
     "name": "#%% md\n"
    }
   }
  },
  {
   "cell_type": "code",
   "execution_count": 140,
   "outputs": [],
   "source": [],
   "metadata": {
    "collapsed": false,
    "pycharm": {
     "name": "#%%\n"
    }
   }
  },
  {
   "cell_type": "code",
   "execution_count": 141,
   "outputs": [
    {
     "name": "stdout",
     "output_type": "stream",
     "text": [
      "1/1 [==============================] - 0s 182ms/step\n"
     ]
    },
    {
     "name": "stderr",
     "output_type": "stream",
     "text": [
      "2023-05-25 10:24:31.652332: I tensorflow/core/common_runtime/executor.cc:1197] [/device:CPU:0] (DEBUG INFO) Executor start aborting (this does not indicate an error and you can ignore this message): INVALID_ARGUMENT: You must feed a value for placeholder tensor 'Placeholder/_1' with dtype float and shape [54,6]\n",
      "\t [[{{node Placeholder/_1}}]]\n",
      "2023-05-25 10:24:31.652887: I tensorflow/core/common_runtime/executor.cc:1197] [/device:CPU:0] (DEBUG INFO) Executor start aborting (this does not indicate an error and you can ignore this message): INVALID_ARGUMENT: You must feed a value for placeholder tensor 'Placeholder/_10' with dtype float and shape [996]\n",
      "\t [[{{node Placeholder/_10}}]]\n"
     ]
    }
   ],
   "source": [
    "# Generate predictions on the test set\n",
    "y_pred = shallow_mlp_model.predict(test_dataset)"
   ],
   "metadata": {
    "collapsed": false,
    "pycharm": {
     "name": "#%%\n"
    }
   }
  },
  {
   "cell_type": "code",
   "execution_count": 155,
   "outputs": [],
   "source": [
    "def custom_round(y_pred, threshold=0.5):\n",
    "    binary_predictions = np.zeros_like(y_pred)\n",
    "\n",
    "    for i, row in enumerate(y_pred):\n",
    "        if np.all(row < threshold):\n",
    "            binary_predictions[i, np.argmax(row)] = 1\n",
    "        else:\n",
    "            binary_predictions[i] = np.round(row)\n",
    "\n",
    "    return binary_predictions\n",
    "\n",
    "binary_predictions = custom_round(y_pred, threshold=0.5)\n",
    "\n",
    "\n",
    "# binary_predictions = np.round(y_pred)"
   ],
   "metadata": {
    "collapsed": false,
    "pycharm": {
     "name": "#%%\n"
    }
   }
  },
  {
   "cell_type": "code",
   "execution_count": 156,
   "outputs": [
    {
     "name": "stdout",
     "output_type": "stream",
     "text": [
      "[[2.40703840e-02 9.84815598e-01 1.62294656e-02 8.64697562e-04\n",
      "  1.15383854e-02 1.69679080e-03]\n",
      " [4.45490092e-01 2.11551443e-01 3.07026088e-01 1.78043604e-01\n",
      "  5.74828148e-01 2.32672751e-01]\n",
      " [9.52363163e-02 3.59439790e-01 2.17914775e-01 2.68207118e-02\n",
      "  1.82201922e-01 2.47187000e-02]\n",
      " [1.11857086e-01 6.55996264e-05 1.25783429e-01 9.39575955e-04\n",
      "  6.14299774e-02 9.91499019e-06]\n",
      " [3.84274274e-01 4.27323908e-01 3.80424351e-01 3.22275490e-01\n",
      "  3.74664068e-01 2.77773947e-01]\n",
      " [6.55347288e-01 2.45537043e-01 1.39500320e-01 1.28597662e-01\n",
      "  1.04565226e-01 1.93384252e-02]\n",
      " [2.17134953e-01 1.94513619e-01 1.52033463e-01 1.33531421e-01\n",
      "  1.34311438e-01 3.60144414e-02]\n",
      " [7.06915140e-01 2.37944740e-04 1.96101442e-02 2.40076687e-02\n",
      "  6.08837187e-01 1.02951203e-03]\n",
      " [2.16223881e-01 2.51599122e-02 1.29497677e-01 2.95288768e-02\n",
      "  2.66558707e-01 8.07833578e-03]\n",
      " [3.81804675e-01 1.93741456e-01 3.21329594e-01 2.25535005e-01\n",
      "  3.37855607e-01 1.22837901e-01]\n",
      " [3.20956290e-01 8.75533093e-03 1.76582634e-02 3.73825692e-02\n",
      "  4.71942842e-01 5.91151463e-03]\n",
      " [4.48089242e-01 2.24424228e-02 1.93983212e-01 2.31254995e-01\n",
      "  1.04672536e-01 2.44038291e-02]\n",
      " [1.64703846e-01 1.57249306e-05 6.18492030e-02 8.95486330e-04\n",
      "  2.56473392e-01 4.17087576e-05]\n",
      " [5.33882976e-01 1.48826381e-02 8.73908773e-02 5.21859787e-02\n",
      "  4.76588279e-01 2.11857650e-02]\n",
      " [5.40350914e-01 5.00542559e-02 1.67184800e-01 3.41623873e-02\n",
      "  4.63358670e-01 1.71260443e-02]\n",
      " [1.19269550e-01 3.16886976e-03 5.51827904e-03 8.76783393e-04\n",
      "  9.30961594e-02 2.42061316e-04]\n",
      " [9.75337476e-02 4.52109165e-02 2.01865852e-01 2.08173115e-02\n",
      "  1.54902816e-01 5.35941869e-03]\n",
      " [3.42369676e-01 2.52385467e-01 2.38143951e-01 3.72525364e-01\n",
      "  2.55433381e-01 1.37000546e-01]\n",
      " [9.86199267e-03 2.22506020e-02 3.85547546e-03 1.26758963e-02\n",
      "  9.57370561e-04 3.58532270e-05]\n",
      " [4.32572179e-02 1.53805418e-02 2.04406843e-01 8.98075377e-05\n",
      "  1.53912023e-01 1.83014607e-04]\n",
      " [2.43507013e-01 3.43489945e-01 1.73626006e-01 2.93907166e-01\n",
      "  1.55977100e-01 8.21299925e-02]\n",
      " [1.12928264e-03 9.86994982e-01 1.20791495e-02 1.88327825e-03\n",
      "  6.80001685e-04 1.58383351e-04]\n",
      " [9.48842242e-02 3.96515569e-03 1.02748230e-01 8.17915320e-01\n",
      "  1.68489963e-02 1.06398547e-02]\n",
      " [7.53644824e-01 2.88184143e-08 7.47434283e-03 1.46510452e-02\n",
      "  7.81862065e-02 3.64112771e-06]\n",
      " [5.96202731e-01 2.54996896e-01 1.84409823e-02 1.21537156e-01\n",
      "  2.93294918e-02 7.35340687e-03]\n",
      " [2.20470339e-01 3.66503512e-03 1.18464321e-01 3.38968355e-03\n",
      "  1.99732576e-02 2.79796397e-04]\n",
      " [8.10476601e-01 1.43101776e-03 4.52418439e-02 2.88478937e-02\n",
      "  1.48736686e-01 6.78201788e-04]\n",
      " [1.65906772e-01 4.02616151e-02 4.92134959e-01 2.58805417e-03\n",
      "  3.94133329e-01 4.47511114e-03]\n",
      " [2.85043508e-01 2.20691927e-05 1.27976621e-02 7.37895489e-01\n",
      "  3.66042182e-02 8.76651437e-04]\n",
      " [3.84274274e-01 4.27323908e-01 3.80424351e-01 3.22275490e-01\n",
      "  3.74664068e-01 2.77773947e-01]\n",
      " [4.50974554e-02 5.94534758e-05 1.35884192e-02 3.36793310e-05\n",
      "  1.48002245e-02 9.69028861e-07]\n",
      " [1.39378265e-01 2.94141695e-02 2.64394820e-01 2.32461579e-02\n",
      "  3.88497144e-01 1.44186243e-02]\n",
      " [3.62486541e-01 4.12779674e-02 2.41107360e-01 3.74984533e-01\n",
      "  2.09180653e-01 7.46713728e-02]\n",
      " [2.82552719e-01 1.17755234e-02 1.00819409e-01 5.63323945e-02\n",
      "  3.05285364e-01 1.96503382e-02]\n",
      " [3.84274274e-01 4.27323908e-01 3.80424351e-01 3.22275490e-01\n",
      "  3.74664068e-01 2.77773947e-01]\n",
      " [1.17533542e-02 2.72069089e-02 5.69842663e-03 2.22819904e-03\n",
      "  1.13294357e-02 6.30575232e-05]\n",
      " [1.94562569e-01 7.03453785e-03 4.69350368e-02 2.37059104e-03\n",
      "  2.23296136e-02 1.52917724e-04]\n",
      " [2.06979197e-02 3.80796045e-01 1.33394375e-02 2.89360613e-01\n",
      "  3.10234609e-03 5.78119745e-03]\n",
      " [6.14693912e-04 9.95299935e-01 1.10401893e-02 1.65989751e-03\n",
      "  8.53653939e-04 2.28300528e-03]\n",
      " [1.33065358e-01 3.76384817e-02 3.52051631e-02 3.85268335e-03\n",
      "  1.42953560e-01 1.08531408e-03]\n",
      " [1.83798466e-02 9.23242629e-01 3.23059633e-02 2.07273904e-02\n",
      "  4.75530606e-03 5.75914886e-03]\n",
      " [5.29573590e-04 1.79883186e-02 9.80205178e-01 6.92722213e-04\n",
      "  8.56170990e-03 1.19476649e-03]\n",
      " [1.13201700e-01 2.30965927e-01 1.10626377e-01 2.14094333e-02\n",
      "  8.18848982e-02 1.03132594e-02]\n",
      " [6.47501424e-02 3.36547644e-04 2.61781394e-01 4.50397813e-04\n",
      "  1.97801620e-01 1.41001641e-04]\n",
      " [7.78392656e-03 2.96451934e-02 8.94306693e-03 8.01329408e-03\n",
      "  3.71417284e-01 6.09376609e-01]\n",
      " [8.40179265e-01 4.58901632e-05 1.70612559e-02 4.69598621e-01\n",
      "  2.21717134e-01 1.06617273e-03]\n",
      " [2.29179412e-01 3.47683579e-02 3.30994986e-02 8.13098192e-01\n",
      "  2.82768328e-02 2.14211959e-02]\n",
      " [2.55839229e-01 4.12648655e-02 4.48073924e-01 1.35975890e-03\n",
      "  3.35002720e-01 3.82354273e-03]\n",
      " [2.40208998e-01 3.17772813e-02 7.56083801e-02 2.45114788e-02\n",
      "  3.85098189e-01 2.19509546e-02]\n",
      " [6.62246644e-01 5.17867971e-04 3.27532999e-02 8.72097373e-01\n",
      "  7.83312786e-03 4.56487789e-04]\n",
      " [7.46813595e-01 9.28810184e-09 2.86199264e-02 9.45467735e-04\n",
      "  4.27159727e-01 3.23844915e-07]\n",
      " [1.26921058e-01 1.61663532e-01 2.75084376e-01 2.44353395e-02\n",
      "  7.64894262e-02 1.82797816e-02]\n",
      " [1.56505764e-01 2.58327896e-06 1.14169018e-02 3.76233347e-02\n",
      "  1.32688042e-02 2.04877506e-05]\n",
      " [1.37663081e-01 5.08507252e-01 1.68266803e-01 8.67371261e-02\n",
      "  1.08585924e-01 4.31098081e-02]]\n"
     ]
    }
   ],
   "source": [
    "print(y_pred)"
   ],
   "metadata": {
    "collapsed": false,
    "pycharm": {
     "name": "#%%\n"
    }
   }
  },
  {
   "cell_type": "code",
   "execution_count": 157,
   "outputs": [
    {
     "name": "stdout",
     "output_type": "stream",
     "text": [
      "[[0. 1. 0. 0. 0. 0.]\n",
      " [0. 0. 0. 0. 1. 0.]\n",
      " [0. 1. 0. 0. 0. 0.]\n",
      " [0. 0. 1. 0. 0. 0.]\n",
      " [0. 1. 0. 0. 0. 0.]\n",
      " [1. 0. 0. 0. 0. 0.]\n",
      " [1. 0. 0. 0. 0. 0.]\n",
      " [1. 0. 0. 0. 1. 0.]\n",
      " [0. 0. 0. 0. 1. 0.]\n",
      " [1. 0. 0. 0. 0. 0.]\n",
      " [0. 0. 0. 0. 1. 0.]\n",
      " [1. 0. 0. 0. 0. 0.]\n",
      " [0. 0. 0. 0. 1. 0.]\n",
      " [1. 0. 0. 0. 0. 0.]\n",
      " [1. 0. 0. 0. 0. 0.]\n",
      " [1. 0. 0. 0. 0. 0.]\n",
      " [0. 0. 1. 0. 0. 0.]\n",
      " [0. 0. 0. 1. 0. 0.]\n",
      " [0. 1. 0. 0. 0. 0.]\n",
      " [0. 0. 1. 0. 0. 0.]\n",
      " [0. 1. 0. 0. 0. 0.]\n",
      " [0. 1. 0. 0. 0. 0.]\n",
      " [0. 0. 0. 1. 0. 0.]\n",
      " [1. 0. 0. 0. 0. 0.]\n",
      " [1. 0. 0. 0. 0. 0.]\n",
      " [1. 0. 0. 0. 0. 0.]\n",
      " [1. 0. 0. 0. 0. 0.]\n",
      " [0. 0. 1. 0. 0. 0.]\n",
      " [0. 0. 0. 1. 0. 0.]\n",
      " [0. 1. 0. 0. 0. 0.]\n",
      " [1. 0. 0. 0. 0. 0.]\n",
      " [0. 0. 0. 0. 1. 0.]\n",
      " [0. 0. 0. 1. 0. 0.]\n",
      " [0. 0. 0. 0. 1. 0.]\n",
      " [0. 1. 0. 0. 0. 0.]\n",
      " [0. 1. 0. 0. 0. 0.]\n",
      " [1. 0. 0. 0. 0. 0.]\n",
      " [0. 1. 0. 0. 0. 0.]\n",
      " [0. 1. 0. 0. 0. 0.]\n",
      " [0. 0. 0. 0. 1. 0.]\n",
      " [0. 1. 0. 0. 0. 0.]\n",
      " [0. 0. 1. 0. 0. 0.]\n",
      " [0. 1. 0. 0. 0. 0.]\n",
      " [0. 0. 1. 0. 0. 0.]\n",
      " [0. 0. 0. 0. 0. 1.]\n",
      " [1. 0. 0. 0. 0. 0.]\n",
      " [0. 0. 0. 1. 0. 0.]\n",
      " [0. 0. 1. 0. 0. 0.]\n",
      " [0. 0. 0. 0. 1. 0.]\n",
      " [1. 0. 0. 1. 0. 0.]\n",
      " [1. 0. 0. 0. 0. 0.]\n",
      " [0. 0. 1. 0. 0. 0.]\n",
      " [1. 0. 0. 0. 0. 0.]\n",
      " [0. 1. 0. 0. 0. 0.]]\n"
     ]
    }
   ],
   "source": [
    "print(binary_predictions)"
   ],
   "metadata": {
    "collapsed": false,
    "pycharm": {
     "name": "#%%\n"
    }
   }
  },
  {
   "cell_type": "code",
   "execution_count": 158,
   "outputs": [
    {
     "name": "stderr",
     "output_type": "stream",
     "text": [
      "2023-05-25 10:50:04.154853: I tensorflow/core/common_runtime/executor.cc:1197] [/device:CPU:0] (DEBUG INFO) Executor start aborting (this does not indicate an error and you can ignore this message): INVALID_ARGUMENT: You must feed a value for placeholder tensor 'Placeholder/_1' with dtype float and shape [54,6]\n",
      "\t [[{{node Placeholder/_1}}]]\n",
      "2023-05-25 10:50:04.155565: I tensorflow/core/common_runtime/executor.cc:1197] [/device:CPU:0] (DEBUG INFO) Executor start aborting (this does not indicate an error and you can ignore this message): INVALID_ARGUMENT: You must feed a value for placeholder tensor 'Placeholder/_9' with dtype int64\n",
      "\t [[{{node Placeholder/_9}}]]\n",
      "/var/folders/jp/2wr1hx0s4zjdcnf63gtk75fw0000gq/T/ipykernel_94296/97231176.py:1: FutureWarning: arrays to stack must be passed as a \"sequence\" type such as list or tuple. Support for non-sequence iterables such as generators is deprecated as of NumPy 1.16 and will raise an error in the future.\n",
      "  y_true = np.vstack(test_dataset.map(lambda x, y: y).as_numpy_iterator())\n"
     ]
    }
   ],
   "source": [
    "y_true = np.vstack(test_dataset.map(lambda x, y: y).as_numpy_iterator())"
   ],
   "metadata": {
    "collapsed": false,
    "pycharm": {
     "name": "#%%\n"
    }
   }
  },
  {
   "cell_type": "code",
   "execution_count": 159,
   "outputs": [
    {
     "name": "stdout",
     "output_type": "stream",
     "text": [
      "[[0. 1. 0. 0. 0. 0.]\n",
      " [0. 0. 1. 0. 0. 0.]\n",
      " [0. 0. 0. 0. 1. 0.]\n",
      " [1. 0. 0. 0. 1. 0.]\n",
      " [0. 1. 0. 0. 0. 0.]\n",
      " [1. 0. 0. 0. 0. 0.]\n",
      " [0. 0. 1. 0. 0. 0.]\n",
      " [1. 0. 0. 0. 0. 1.]\n",
      " [0. 1. 0. 0. 0. 0.]\n",
      " [0. 1. 0. 0. 0. 0.]\n",
      " [0. 1. 0. 0. 0. 0.]\n",
      " [0. 0. 0. 0. 0. 1.]\n",
      " [0. 0. 1. 0. 0. 0.]\n",
      " [1. 0. 0. 0. 0. 0.]\n",
      " [1. 0. 0. 0. 0. 0.]\n",
      " [0. 1. 0. 0. 0. 0.]\n",
      " [0. 0. 0. 0. 1. 1.]\n",
      " [0. 0. 1. 0. 0. 0.]\n",
      " [0. 1. 0. 0. 0. 0.]\n",
      " [0. 0. 0. 0. 1. 0.]\n",
      " [0. 0. 0. 1. 0. 0.]\n",
      " [0. 0. 0. 0. 1. 0.]\n",
      " [1. 0. 0. 0. 0. 0.]\n",
      " [0. 0. 1. 0. 0. 0.]\n",
      " [1. 0. 0. 0. 0. 0.]\n",
      " [1. 0. 0. 0. 0. 0.]\n",
      " [1. 0. 1. 0. 0. 0.]\n",
      " [0. 1. 0. 0. 0. 0.]\n",
      " [0. 0. 0. 1. 0. 0.]\n",
      " [0. 0. 0. 1. 0. 0.]\n",
      " [0. 0. 0. 1. 0. 0.]\n",
      " [0. 0. 0. 0. 1. 0.]\n",
      " [1. 0. 0. 0. 0. 0.]\n",
      " [1. 0. 0. 0. 0. 0.]\n",
      " [1. 0. 1. 0. 0. 0.]\n",
      " [0. 0. 1. 0. 0. 0.]\n",
      " [0. 0. 1. 0. 0. 0.]\n",
      " [0. 0. 0. 0. 1. 0.]\n",
      " [0. 1. 0. 0. 0. 0.]\n",
      " [0. 0. 0. 0. 1. 0.]\n",
      " [0. 1. 0. 0. 0. 0.]\n",
      " [0. 0. 1. 0. 0. 0.]\n",
      " [0. 0. 1. 0. 0. 0.]\n",
      " [0. 0. 1. 0. 0. 0.]\n",
      " [0. 0. 0. 1. 0. 0.]\n",
      " [1. 0. 0. 0. 1. 0.]\n",
      " [0. 1. 0. 0. 0. 0.]\n",
      " [0. 1. 0. 0. 0. 0.]\n",
      " [1. 0. 0. 0. 0. 0.]\n",
      " [1. 0. 0. 0. 0. 0.]\n",
      " [1. 0. 0. 0. 0. 0.]\n",
      " [0. 0. 1. 0. 0. 0.]\n",
      " [1. 0. 0. 0. 0. 0.]\n",
      " [0. 1. 0. 0. 0. 0.]]\n"
     ]
    }
   ],
   "source": [
    "print(y_true)"
   ],
   "metadata": {
    "collapsed": false,
    "pycharm": {
     "name": "#%%\n"
    }
   }
  },
  {
   "cell_type": "code",
   "execution_count": 160,
   "outputs": [
    {
     "name": "stdout",
     "output_type": "stream",
     "text": [
      "Category 1:\n",
      "\n",
      "Accuracy: 0.7592592835426331\n",
      "Precision: 0.6111111044883728\n",
      "Recall: 0.6470588445663452\n",
      "F1 Score: 0.6285713911056519\n",
      "\n"
     ]
    },
    {
     "data": {
      "text/plain": "<Figure size 500x500 with 2 Axes>",
      "image/png": "[encoded data removed]"
     },
     "metadata": {},
     "output_type": "display_data"
    },
    {
     "name": "stdout",
     "output_type": "stream",
     "text": [
      "Category 2:\n",
      "\n",
      "Accuracy: 0.7222222089767456\n",
      "Precision: 0.4285714328289032\n",
      "Recall: 0.4615384638309479\n",
      "F1 Score: 0.4444443881511688\n",
      "\n"
     ]
    },
    {
     "data": {
      "text/plain": "<Figure size 500x500 with 2 Axes>",
      "image/png": "[encoded data removed]"
     },
     "metadata": {},
     "output_type": "display_data"
    },
    {
     "name": "stdout",
     "output_type": "stream",
     "text": [
      "Category 3:\n",
      "\n",
      "Accuracy: 0.7222222089767456\n",
      "Precision: 0.375\n",
      "Recall: 0.23076923191547394\n",
      "F1 Score: 0.2857142388820648\n",
      "\n"
     ]
    },
    {
     "data": {
      "text/plain": "<Figure size 500x500 with 2 Axes>",
      "image/png": "[encoded data removed]"
     },
     "metadata": {},
     "output_type": "display_data"
    },
    {
     "name": "stdout",
     "output_type": "stream",
     "text": [
      "Category 4:\n",
      "\n",
      "Accuracy: 0.8333333134651184\n",
      "Precision: 0.1666666716337204\n",
      "Recall: 0.20000000298023224\n",
      "F1 Score: 0.1818181425333023\n",
      "\n"
     ]
    },
    {
     "data": {
      "text/plain": "<Figure size 500x500 with 2 Axes>",
      "image/png": "[encoded data removed]"
     },
     "metadata": {},
     "output_type": "display_data"
    },
    {
     "name": "stdout",
     "output_type": "stream",
     "text": [
      "Category 5:\n",
      "\n",
      "Accuracy: 0.7407407164573669\n",
      "Precision: 0.2222222238779068\n",
      "Recall: 0.2222222238779068\n",
      "F1 Score: 0.22222217917442322\n",
      "\n"
     ]
    },
    {
     "data": {
      "text/plain": "<Figure size 500x500 with 2 Axes>",
      "image/png": "[encoded data removed]"
     },
     "metadata": {},
     "output_type": "display_data"
    },
    {
     "name": "stdout",
     "output_type": "stream",
     "text": [
      "Category 6:\n",
      "\n",
      "Accuracy: 0.9259259104728699\n",
      "Precision: 0.0\n",
      "Recall: 0.0\n",
      "F1 Score: 0.0\n",
      "\n"
     ]
    },
    {
     "data": {
      "text/plain": "<Figure size 500x500 with 2 Axes>",
      "image/png": "[encoded data removed]"
     },
     "metadata": {},
     "output_type": "display_data"
    }
   ],
   "source": [
    "for i in range(binary_predictions.shape[1]):\n",
    "    print(f\"Category {i+1}:\\n\")\n",
    "    true_labels = y_true[:, i]\n",
    "    predicted_labels = binary_predictions[:, i]\n",
    "\n",
    "    # Calculate metrics\n",
    "    accuracy = metrics.BinaryAccuracy()(true_labels, predicted_labels)\n",
    "    precision = metrics.Precision()(true_labels, predicted_labels)\n",
    "    recall = metrics.Recall()(true_labels, predicted_labels)\n",
    "    f1 = F1Score()(true_labels, predicted_labels)\n",
    "\n",
    "    print(f\"Accuracy: {accuracy}\")\n",
    "    print(f\"Precision: {precision}\")\n",
    "    print(f\"Recall: {recall}\")\n",
    "    print(f\"F1 Score: {f1}\\n\")\n",
    "\n",
    "    # Plot confusion matrix\n",
    "    cm = confusion_matrix(true_labels, predicted_labels)  # Note: confusion_matrix is not available in tf.keras.metrics\n",
    "    plt.figure(figsize=(5,5))\n",
    "    sns.heatmap(cm, annot=True, fmt=\"d\")\n",
    "    plt.title(f'Confusion matrix for category {i+1}')\n",
    "    plt.ylabel('Actual label')\n",
    "    plt.xlabel('Predicted label')\n",
    "    plt.show()\n",
    "\n"
   ],
   "metadata": {
    "collapsed": false,
    "pycharm": {
     "name": "#%%\n"
    }
   }
  },
  {
   "cell_type": "markdown",
   "source": [
    "------------------------------------------------------------------------"
   ],
   "metadata": {
    "collapsed": false,
    "pycharm": {
     "name": "#%% md\n"
    }
   },
   "outputs": [
    {
     "ename": "SyntaxError",
     "evalue": "invalid syntax (2946342548.py, line 1)",
     "output_type": "error",
     "traceback": [
      "\u001B[1;36m  Cell \u001B[1;32mIn[84], line 1\u001B[1;36m\u001B[0m\n\u001B[1;33m    ------------------------------------------------------------------------\u001B[0m\n\u001B[1;37m                                                                            ^\u001B[0m\n\u001B[1;31mSyntaxError\u001B[0m\u001B[1;31m:\u001B[0m invalid syntax\n"
     ]
    }
   ],
   "execution_count": 84
  },
  {
   "cell_type": "markdown",
   "source": [
    "### DISTRUBIOTION\n",
    " Lets check for the train and test data how many samples we have from each class:"
   ],
   "metadata": {
    "collapsed": false,
    "pycharm": {
     "name": "#%% md\n"
    },
    "id": "bY9s2oYzKE44"
   }
  },
  {
   "cell_type": "code",
   "execution_count": 161,
   "outputs": [
    {
     "name": "stdout",
     "output_type": "stream",
     "text": [
      " Future of work: 33\n",
      " Environment and climate resilience: 53\n",
      " Local identity: 52\n",
      " Land use: 75\n",
      " other: 62\n",
      " Mobility (transport): 8\n"
     ]
    }
   ],
   "source": [
    "from collections import Counter\n",
    "\n",
    "# Flatten the list of categories\n",
    "flat_categories = [category for sublist in train_df[\"category\"] for category in sublist]\n",
    "\n",
    "# Count the occurrences\n",
    "counts = Counter(flat_categories)\n",
    "\n",
    "# Print counts in a readable format\n",
    "for category, count in counts.items():\n",
    "    print(f\" {category}: {count}\")\n",
    "\n"
   ],
   "metadata": {
    "pycharm": {
     "name": "#%%\n"
    },
    "id": "JaHGWBQcKE44"
   }
  },
  {
   "cell_type": "code",
   "execution_count": 162,
   "outputs": [
    {
     "name": "stdout",
     "output_type": "stream",
     "text": [
      " other: 13\n",
      " Environment and climate resilience: 13\n",
      " Future of work: 9\n",
      " Land use: 17\n",
      " Mobility (transport): 3\n",
      " Local identity: 5\n"
     ]
    }
   ],
   "source": [
    "# Flatten the list of categories\n",
    "flat_categories = [category for sublist in test_df[\"category\"] for category in sublist]\n",
    "\n",
    "# Count the occurrences\n",
    "counts = Counter(flat_categories)\n",
    "\n",
    "# Print counts in a readable format\n",
    "for category, count in counts.items():\n",
    "    print(f\" {category}: {count}\")\n"
   ],
   "metadata": {
    "pycharm": {
     "name": "#%%\n"
    },
    "id": "YSjX5S8qKE44"
   }
  },
  {
   "cell_type": "code",
   "execution_count": null,
   "outputs": [],
   "source": [],
   "metadata": {
    "pycharm": {
     "name": "#%%\n"
    },
    "id": "a81dKcrYKE44"
   }
  }
 ],
 "metadata": {
  "kernelspec": {
   "display_name": "Python 3",
   "language": "python",
   "name": "python3"
  },
  "language_info": {
   "codemirror_mode": {
    "name": "ipython",
    "version": 2
   },
   "file_extension": ".py",
   "mimetype": "text/x-python",
   "name": "python",
   "nbconvert_exporter": "python",
   "pygments_lexer": "ipython2",
   "version": "2.7.6"
  },
  "colab": {
   "provenance": []
  }
 },
 "nbformat": 4,
 "nbformat_minor": 0
}